{
  "cells": [
    {
      "cell_type": "markdown",
      "id": "2398f7d7",
      "metadata": {},
      "source": [
        "# Membangun Loyalitas Pelanggan melalui User Retention Analysis dan Cohort Analysis\n",
        "\n",
        "### Deskripsi : \n",
        "User Retention Analysis adalah metode untuk mengevaluasi seberapa efektif bisnis mempertahankan pelanggan yang kembali menggunakan produk atau bertransaksi dalam jangka waktu tertentu. Didukung oleh Cohort Analysis, yang mengelompokkan pengguna berdasarkan kesamaan seperti waktu pendaftaran atau lokasi, analisis ini memanfaatkan Python untuk mengolah data dan mengidentifikasi pola perilaku pelanggan. Proses ini membantu bisnis memahami tingkat retensi dan mengambil langkah strategis untuk mempertahankan loyalitas pelanggan, bahkan di situasi sulit.\n",
        "\n",
        "### Tujuan : \n",
        "- Mengukur tingkat retensi pelanggan (retention rate) untuk menilai loyalitas.\n",
        "- Mengidentifikasi pola dan tren perilaku pengguna dari waktu ke waktu.\n",
        "- Memberikan wawasan untuk menyusun strategi mempertahankan pelanggan dan meningkatkan keuntungan bisnis.\n",
        "\n",
        "### Contoh: \n",
        "Jika sebuah bisnis memiliki 100 pelanggan pada periode sebelumnya dan 70 di antaranya bertransaksi lagi pada periode berikutnya, maka retention rate-nya adalah 70%. Dengan Cohort Analysis, bisnis dapat membandingkan retensi pelanggan yang mendaftar di bulan yang sama untuk melihat apakah ada tren penurunan penggunaan produk setelah beberapa waktu.\n",
        "\n",
        "[teks link](https://medium.com/@myskill.id/use-case-user-retention-analysis-f0e95d60a1f1)"
      ]
    },
    {
      "cell_type": "markdown",
      "id": "c98e0752",
      "metadata": {
        "id": "c98e0752"
      },
      "source": [
        "# Impor packages"
      ]
    },
    {
      "cell_type": "code",
      "execution_count": 6,
      "id": "9e69ab8b",
      "metadata": {
        "ExecuteTime": {
          "end_time": "2022-10-09T09:26:37.053251Z",
          "start_time": "2022-10-09T09:26:33.994854Z"
        },
        "colab": {
          "base_uri": "https://localhost:8080/"
        },
        "execution": {
          "iopub.execute_input": "2022-10-28T07:12:01.092054Z",
          "iopub.status.busy": "2022-10-28T07:12:01.080956Z",
          "iopub.status.idle": "2022-10-28T07:12:03.391609Z",
          "shell.execute_reply": "2022-10-28T07:12:03.390772Z",
          "shell.execute_reply.started": "2022-10-28T07:12:01.091651Z"
        },
        "id": "9e69ab8b",
        "outputId": "8feba7ab-a730-4313-b968-c8e7c8557c29",
        "tags": []
      },
      "outputs": [],
      "source": [
        "import pandas as pd\n",
        "import numpy as np\n",
        "import datetime as dt\n",
        "from scipy import stats"
      ]
    },
    {
      "cell_type": "code",
      "execution_count": 7,
      "id": "FfVfvhnCYUxe",
      "metadata": {
        "colab": {
          "base_uri": "https://localhost:8080/",
          "height": 35
        },
        "id": "FfVfvhnCYUxe",
        "outputId": "61040edf-5b7c-45c6-ebb2-db766baaa179"
      },
      "outputs": [
        {
          "data": {
            "text/plain": [
              "'d:\\\\AL FITRA\\\\STUDI UMM\\\\SEMESTER 6\\\\TEORI\\\\DATA INFORMASI DAN PENGETAHUAN\\\\SOURCE CODE PROGRAM\\\\DATA INFORMATION KNOWLEDGE\\\\OnlineRetailPlatform\\\\User Retention Analysis'"
            ]
          },
          "execution_count": 7,
          "metadata": {},
          "output_type": "execute_result"
        }
      ],
      "source": [
        "import os\n",
        "os.getcwd()"
      ]
    },
    {
      "cell_type": "markdown",
      "id": "e8ab0dc7-7a11-4ce0-86c0-0905142c44ae",
      "metadata": {
        "id": "e8ab0dc7-7a11-4ce0-86c0-0905142c44ae"
      },
      "source": [
        "# Impor data dari CSV ke DataFrame"
      ]
    },
    {
      "cell_type": "code",
      "execution_count": 8,
      "id": "9c7563ab-df4d-4ee4-a04b-39cb5dfecac6",
      "metadata": {
        "colab": {
          "base_uri": "https://localhost:8080/",
          "height": 424
        },
        "execution": {
          "iopub.execute_input": "2022-10-28T07:12:09.457843Z",
          "iopub.status.busy": "2022-10-28T07:12:09.457304Z",
          "iopub.status.idle": "2022-10-28T07:12:10.060024Z",
          "shell.execute_reply": "2022-10-28T07:12:10.059365Z",
          "shell.execute_reply.started": "2022-10-28T07:12:09.457811Z"
        },
        "id": "9c7563ab-df4d-4ee4-a04b-39cb5dfecac6",
        "outputId": "2dbbcaa7-3b39-4120-c7f6-e5310b451cff",
        "tags": []
      },
      "outputs": [
        {
          "data": {
            "application/vnd.microsoft.datawrangler.viewer.v0+json": {
              "columns": [
                {
                  "name": "index",
                  "rawType": "int64",
                  "type": "integer"
                },
                {
                  "name": "order_id",
                  "rawType": "object",
                  "type": "string"
                },
                {
                  "name": "product_code",
                  "rawType": "object",
                  "type": "string"
                },
                {
                  "name": "product_name",
                  "rawType": "object",
                  "type": "unknown"
                },
                {
                  "name": "quantity",
                  "rawType": "int64",
                  "type": "integer"
                },
                {
                  "name": "order_date",
                  "rawType": "object",
                  "type": "string"
                },
                {
                  "name": "price",
                  "rawType": "float64",
                  "type": "float"
                },
                {
                  "name": "customer_id",
                  "rawType": "float64",
                  "type": "float"
                }
              ],
              "conversionMethod": "pd.DataFrame",
              "ref": "e9d1c3ce-deb7-4b55-8022-a6b0c5e85151",
              "rows": [
                [
                  "0",
                  "493410",
                  "TEST001",
                  "This is a test product.",
                  "5",
                  "2010-01-04 09:24:00",
                  "4.5",
                  "12346.0"
                ],
                [
                  "1",
                  "C493411",
                  "21539",
                  "RETRO SPOTS BUTTER DISH",
                  "-1",
                  "2010-01-04 09:43:00",
                  "4.25",
                  "14590.0"
                ],
                [
                  "2",
                  "493412",
                  "TEST001",
                  "This is a test product.",
                  "5",
                  "2010-01-04 09:53:00",
                  "4.5",
                  "12346.0"
                ],
                [
                  "3",
                  "493413",
                  "21724",
                  "PANDA AND BUNNIES STICKER SHEET",
                  "1",
                  "2010-01-04 09:54:00",
                  "0.85",
                  null
                ],
                [
                  "4",
                  "493413",
                  "84578",
                  "ELEPHANT TOY WITH BLUE T-SHIRT",
                  "1",
                  "2010-01-04 09:54:00",
                  "3.75",
                  null
                ],
                [
                  "5",
                  "493413",
                  "21723",
                  "ALPHABET HEARTS STICKER SHEET",
                  "1",
                  "2010-01-04 09:54:00",
                  "0.85",
                  null
                ],
                [
                  "6",
                  "493414",
                  "21844",
                  "RETRO SPOT MUG",
                  "36",
                  "2010-01-04 10:28:00",
                  "2.55",
                  "14590.0"
                ],
                [
                  "7",
                  "493414",
                  "21533",
                  "RETRO SPOT LARGE MILK JUG",
                  "12",
                  "2010-01-04 10:28:00",
                  "4.25",
                  "14590.0"
                ],
                [
                  "8",
                  "493414",
                  "37508",
                  "NEW ENGLAND CERAMIC CAKE SERVER",
                  "2",
                  "2010-01-04 10:28:00",
                  "2.55",
                  "14590.0"
                ],
                [
                  "9",
                  "493414",
                  "35001G",
                  "HAND OPEN SHAPE GOLD",
                  "2",
                  "2010-01-04 10:28:00",
                  "4.25",
                  "14590.0"
                ],
                [
                  "10",
                  "493414",
                  "21527",
                  "RETRO SPOT TRADITIONAL TEAPOT",
                  "12",
                  "2010-01-04 10:28:00",
                  "6.95",
                  "14590.0"
                ],
                [
                  "11",
                  "493414",
                  "21531",
                  "RETRO SPOT SUGAR JAM BOWL",
                  "24",
                  "2010-01-04 10:28:00",
                  "2.1",
                  "14590.0"
                ],
                [
                  "12",
                  "C493415",
                  "21527",
                  "RETRO SPOT TRADITIONAL TEAPOT",
                  "-3",
                  "2010-01-04 10:33:00",
                  "7.95",
                  "14590.0"
                ],
                [
                  "13",
                  "C493426",
                  "22109",
                  "FULL ENGLISH BREAKFAST PLATE",
                  "-1",
                  "2010-01-04 10:41:00",
                  "3.39",
                  "16550.0"
                ],
                [
                  "14",
                  "493427",
                  "82483",
                  "WOOD 2 DRAWER CABINET WHITE FINISH",
                  "4",
                  "2010-01-04 10:43:00",
                  "5.95",
                  "13287.0"
                ],
                [
                  "15",
                  "493427",
                  "21681",
                  "GIANT MEDINA STAMPED METAL BOWL",
                  "2",
                  "2010-01-04 10:43:00",
                  "9.95",
                  "13287.0"
                ],
                [
                  "16",
                  "493427",
                  "21682",
                  "LARGE MEDINA STAMPED METAL BOWL",
                  "4",
                  "2010-01-04 10:43:00",
                  "4.95",
                  "13287.0"
                ],
                [
                  "17",
                  "493427",
                  "18096C",
                  "WHITE ROUND PORCELAIN TLIGHT HOLDER",
                  "6",
                  "2010-01-04 10:43:00",
                  "2.55",
                  "13287.0"
                ],
                [
                  "18",
                  "493427",
                  "21577",
                  "SAVE THE PLANET COTTON TOTE BAG",
                  "6",
                  "2010-01-04 10:43:00",
                  "2.25",
                  "13287.0"
                ],
                [
                  "19",
                  "493427",
                  "21576",
                  "LETS GO SHOPPING COTTON TOTE BAG",
                  "6",
                  "2010-01-04 10:43:00",
                  "2.25",
                  "13287.0"
                ],
                [
                  "20",
                  "493427",
                  "37447",
                  "CERAMIC CAKE DESIGN SPOTTED PLATE",
                  "12",
                  "2010-01-04 10:43:00",
                  "1.49",
                  "13287.0"
                ],
                [
                  "21",
                  "493427",
                  "21232",
                  "STRAWBERRY CERAMIC TRINKET BOX",
                  "12",
                  "2010-01-04 10:43:00",
                  "1.25",
                  "13287.0"
                ],
                [
                  "22",
                  "493427",
                  "79000",
                  "MOROCCAN TEA GLASS",
                  "12",
                  "2010-01-04 10:43:00",
                  "0.85",
                  "13287.0"
                ],
                [
                  "23",
                  "493427",
                  "84499",
                  "BLACK FLOWER CANDLE PLATE",
                  "12",
                  "2010-01-04 10:43:00",
                  "0.85",
                  "13287.0"
                ],
                [
                  "24",
                  "493427",
                  "72780",
                  "BLACK SILOUETTE CANDLE PLATE",
                  "12",
                  "2010-01-04 10:43:00",
                  "0.85",
                  "13287.0"
                ],
                [
                  "25",
                  "493427",
                  "22214",
                  "CANDLE PLATE LACE WHITE",
                  "6",
                  "2010-01-04 10:43:00",
                  "2.55",
                  "13287.0"
                ],
                [
                  "26",
                  "493427",
                  "72369A",
                  "PINK CLEAR GLASS CANDLE PLATE",
                  "6",
                  "2010-01-04 10:43:00",
                  "1.25",
                  "13287.0"
                ],
                [
                  "27",
                  "493427",
                  "21428",
                  "SET3 BOOK BOX GREEN GINGHAM FLOWER",
                  "4",
                  "2010-01-04 10:43:00",
                  "4.25",
                  "13287.0"
                ],
                [
                  "28",
                  "493427",
                  "22178",
                  "VICTORIAN GLASS HANGING T-LIGHT",
                  "12",
                  "2010-01-04 10:43:00",
                  "1.25",
                  "13287.0"
                ],
                [
                  "29",
                  "493427",
                  "84615",
                  "PINK ROUND BUTTERFLY MIRROR",
                  "2",
                  "2010-01-04 10:43:00",
                  "7.95",
                  "13287.0"
                ],
                [
                  "30",
                  "493427",
                  "84686",
                  "BEACH HUT MIRROR",
                  "2",
                  "2010-01-04 10:43:00",
                  "4.25",
                  "13287.0"
                ],
                [
                  "31",
                  "493427",
                  "21777",
                  "RECIPE BOX WITH METAL HEART",
                  "2",
                  "2010-01-04 10:43:00",
                  "7.95",
                  "13287.0"
                ],
                [
                  "32",
                  "493428",
                  "84563A",
                  "PINK & WHITE BREAKFAST TRAY",
                  "1",
                  "2010-01-04 11:15:00",
                  "5.95",
                  "16550.0"
                ],
                [
                  "33",
                  "493428",
                  "84562A",
                  "PINK/WHITE RIBBED MELAMINE JUG",
                  "1",
                  "2010-01-04 11:15:00",
                  "7.95",
                  "16550.0"
                ],
                [
                  "34",
                  "493428",
                  "22347",
                  "PIZZA SLICE DISH",
                  "6",
                  "2010-01-04 11:15:00",
                  "1.25",
                  "16550.0"
                ],
                [
                  "35",
                  "493428",
                  "21658",
                  "GLASS  BEURRE DISH",
                  "2",
                  "2010-01-04 11:15:00",
                  "3.95",
                  "16550.0"
                ],
                [
                  "36",
                  "493428",
                  "22084",
                  "PAPER CHAIN KIT EMPIRE",
                  "4",
                  "2010-01-04 11:15:00",
                  "2.95",
                  "16550.0"
                ],
                [
                  "37",
                  "493428",
                  "22083",
                  "PAPER CHAIN KIT RETRO SPOT",
                  "6",
                  "2010-01-04 11:15:00",
                  "2.95",
                  "16550.0"
                ],
                [
                  "38",
                  "493428",
                  "22197",
                  "POPCORN HOLDER , SMALL ",
                  "6",
                  "2010-01-04 11:15:00",
                  "0.85",
                  "16550.0"
                ],
                [
                  "39",
                  "493428",
                  "22198",
                  "POPCORN HOLDER , LARGE",
                  "6",
                  "2010-01-04 11:15:00",
                  "1.65",
                  "16550.0"
                ],
                [
                  "40",
                  "493428",
                  "84988",
                  "SET OF 72 PINK HEART PAPER DOILIES",
                  "10",
                  "2010-01-04 11:15:00",
                  "1.45",
                  "16550.0"
                ],
                [
                  "41",
                  "493428",
                  "21559",
                  "STRAWBERRY LUNCHBOX WITH CUTLERY",
                  "4",
                  "2010-01-04 11:15:00",
                  "2.55",
                  "16550.0"
                ],
                [
                  "42",
                  "493428",
                  "21558",
                  "SKULL LUNCHBOX WITH CUTLERY",
                  "1",
                  "2010-01-04 11:15:00",
                  "2.55",
                  "16550.0"
                ],
                [
                  "43",
                  "493428",
                  "22353",
                  "LUNCHBOX WITH CUTLERY FAIRY CAKES",
                  "4",
                  "2010-01-04 11:15:00",
                  "2.55",
                  "16550.0"
                ],
                [
                  "44",
                  "493428",
                  "21561",
                  "DINOSAUR LUNCHBOX WITH CUTLERY",
                  "4",
                  "2010-01-04 11:15:00",
                  "2.55",
                  "16550.0"
                ],
                [
                  "45",
                  "493428",
                  "21622",
                  "VINTAGE UNION JACK CUSHION COVER",
                  "6",
                  "2010-01-04 11:15:00",
                  "4.95",
                  "16550.0"
                ],
                [
                  "46",
                  "493428",
                  "21411",
                  "GINGHAM HEART  DOORSTOP RED",
                  "2",
                  "2010-01-04 11:15:00",
                  "4.25",
                  "16550.0"
                ],
                [
                  "47",
                  "493428",
                  "20682",
                  "RED SPOTTY CHILDS UMBRELLA",
                  "2",
                  "2010-01-04 11:15:00",
                  "3.25",
                  "16550.0"
                ],
                [
                  "48",
                  "493428",
                  "20686",
                  "DOLLY MIXTURE CHILDREN'S UMBRELLA",
                  "2",
                  "2010-01-04 11:15:00",
                  "3.25",
                  "16550.0"
                ],
                [
                  "49",
                  "493428",
                  "20681",
                  "PINK SPOTTY CHILDS UMBRELLA",
                  "2",
                  "2010-01-04 11:15:00",
                  "3.25",
                  "16550.0"
                ]
              ],
              "shape": {
                "columns": 7,
                "rows": 461773
              }
            },
            "text/html": [
              "<div>\n",
              "<style scoped>\n",
              "    .dataframe tbody tr th:only-of-type {\n",
              "        vertical-align: middle;\n",
              "    }\n",
              "\n",
              "    .dataframe tbody tr th {\n",
              "        vertical-align: top;\n",
              "    }\n",
              "\n",
              "    .dataframe thead th {\n",
              "        text-align: right;\n",
              "    }\n",
              "</style>\n",
              "<table border=\"1\" class=\"dataframe\">\n",
              "  <thead>\n",
              "    <tr style=\"text-align: right;\">\n",
              "      <th></th>\n",
              "      <th>order_id</th>\n",
              "      <th>product_code</th>\n",
              "      <th>product_name</th>\n",
              "      <th>quantity</th>\n",
              "      <th>order_date</th>\n",
              "      <th>price</th>\n",
              "      <th>customer_id</th>\n",
              "    </tr>\n",
              "  </thead>\n",
              "  <tbody>\n",
              "    <tr>\n",
              "      <th>0</th>\n",
              "      <td>493410</td>\n",
              "      <td>TEST001</td>\n",
              "      <td>This is a test product.</td>\n",
              "      <td>5</td>\n",
              "      <td>2010-01-04 09:24:00</td>\n",
              "      <td>4.50</td>\n",
              "      <td>12346.0</td>\n",
              "    </tr>\n",
              "    <tr>\n",
              "      <th>1</th>\n",
              "      <td>C493411</td>\n",
              "      <td>21539</td>\n",
              "      <td>RETRO SPOTS BUTTER DISH</td>\n",
              "      <td>-1</td>\n",
              "      <td>2010-01-04 09:43:00</td>\n",
              "      <td>4.25</td>\n",
              "      <td>14590.0</td>\n",
              "    </tr>\n",
              "    <tr>\n",
              "      <th>2</th>\n",
              "      <td>493412</td>\n",
              "      <td>TEST001</td>\n",
              "      <td>This is a test product.</td>\n",
              "      <td>5</td>\n",
              "      <td>2010-01-04 09:53:00</td>\n",
              "      <td>4.50</td>\n",
              "      <td>12346.0</td>\n",
              "    </tr>\n",
              "    <tr>\n",
              "      <th>3</th>\n",
              "      <td>493413</td>\n",
              "      <td>21724</td>\n",
              "      <td>PANDA AND BUNNIES STICKER SHEET</td>\n",
              "      <td>1</td>\n",
              "      <td>2010-01-04 09:54:00</td>\n",
              "      <td>0.85</td>\n",
              "      <td>NaN</td>\n",
              "    </tr>\n",
              "    <tr>\n",
              "      <th>4</th>\n",
              "      <td>493413</td>\n",
              "      <td>84578</td>\n",
              "      <td>ELEPHANT TOY WITH BLUE T-SHIRT</td>\n",
              "      <td>1</td>\n",
              "      <td>2010-01-04 09:54:00</td>\n",
              "      <td>3.75</td>\n",
              "      <td>NaN</td>\n",
              "    </tr>\n",
              "    <tr>\n",
              "      <th>...</th>\n",
              "      <td>...</td>\n",
              "      <td>...</td>\n",
              "      <td>...</td>\n",
              "      <td>...</td>\n",
              "      <td>...</td>\n",
              "      <td>...</td>\n",
              "      <td>...</td>\n",
              "    </tr>\n",
              "    <tr>\n",
              "      <th>461768</th>\n",
              "      <td>539991</td>\n",
              "      <td>21618</td>\n",
              "      <td>4 WILDFLOWER BOTANICAL CANDLES</td>\n",
              "      <td>1</td>\n",
              "      <td>2010-12-23 16:49:00</td>\n",
              "      <td>1.25</td>\n",
              "      <td>NaN</td>\n",
              "    </tr>\n",
              "    <tr>\n",
              "      <th>461769</th>\n",
              "      <td>539991</td>\n",
              "      <td>72741</td>\n",
              "      <td>GRAND CHOCOLATECANDLE</td>\n",
              "      <td>4</td>\n",
              "      <td>2010-12-23 16:49:00</td>\n",
              "      <td>1.45</td>\n",
              "      <td>NaN</td>\n",
              "    </tr>\n",
              "    <tr>\n",
              "      <th>461770</th>\n",
              "      <td>539992</td>\n",
              "      <td>21470</td>\n",
              "      <td>FLOWER VINE RAFFIA FOOD COVER</td>\n",
              "      <td>1</td>\n",
              "      <td>2010-12-23 17:41:00</td>\n",
              "      <td>3.75</td>\n",
              "      <td>NaN</td>\n",
              "    </tr>\n",
              "    <tr>\n",
              "      <th>461771</th>\n",
              "      <td>539992</td>\n",
              "      <td>22258</td>\n",
              "      <td>FELT FARM ANIMAL RABBIT</td>\n",
              "      <td>1</td>\n",
              "      <td>2010-12-23 17:41:00</td>\n",
              "      <td>1.25</td>\n",
              "      <td>NaN</td>\n",
              "    </tr>\n",
              "    <tr>\n",
              "      <th>461772</th>\n",
              "      <td>539992</td>\n",
              "      <td>21155</td>\n",
              "      <td>RED RETROSPOT PEG BAG</td>\n",
              "      <td>1</td>\n",
              "      <td>2010-12-23 17:41:00</td>\n",
              "      <td>2.10</td>\n",
              "      <td>NaN</td>\n",
              "    </tr>\n",
              "  </tbody>\n",
              "</table>\n",
              "<p>461773 rows × 7 columns</p>\n",
              "</div>"
            ],
            "text/plain": [
              "       order_id product_code                     product_name  quantity  \\\n",
              "0        493410      TEST001          This is a test product.         5   \n",
              "1       C493411        21539          RETRO SPOTS BUTTER DISH        -1   \n",
              "2        493412      TEST001          This is a test product.         5   \n",
              "3        493413        21724  PANDA AND BUNNIES STICKER SHEET         1   \n",
              "4        493413        84578   ELEPHANT TOY WITH BLUE T-SHIRT         1   \n",
              "...         ...          ...                              ...       ...   \n",
              "461768   539991        21618   4 WILDFLOWER BOTANICAL CANDLES         1   \n",
              "461769   539991        72741            GRAND CHOCOLATECANDLE         4   \n",
              "461770   539992        21470    FLOWER VINE RAFFIA FOOD COVER         1   \n",
              "461771   539992        22258          FELT FARM ANIMAL RABBIT         1   \n",
              "461772   539992        21155            RED RETROSPOT PEG BAG         1   \n",
              "\n",
              "                 order_date  price  customer_id  \n",
              "0       2010-01-04 09:24:00   4.50      12346.0  \n",
              "1       2010-01-04 09:43:00   4.25      14590.0  \n",
              "2       2010-01-04 09:53:00   4.50      12346.0  \n",
              "3       2010-01-04 09:54:00   0.85          NaN  \n",
              "4       2010-01-04 09:54:00   3.75          NaN  \n",
              "...                     ...    ...          ...  \n",
              "461768  2010-12-23 16:49:00   1.25          NaN  \n",
              "461769  2010-12-23 16:49:00   1.45          NaN  \n",
              "461770  2010-12-23 17:41:00   3.75          NaN  \n",
              "461771  2010-12-23 17:41:00   1.25          NaN  \n",
              "461772  2010-12-23 17:41:00   2.10          NaN  \n",
              "\n",
              "[461773 rows x 7 columns]"
            ]
          },
          "execution_count": 8,
          "metadata": {},
          "output_type": "execute_result"
        }
      ],
      "source": [
        "df = pd.read_csv('Online Retail Data.csv', header=0)\n",
        "df"
      ]
    },
    {
      "cell_type": "code",
      "execution_count": 9,
      "id": "5fb280d8-d333-48c9-af2d-ed4036d7d143",
      "metadata": {
        "colab": {
          "base_uri": "https://localhost:8080/"
        },
        "execution": {
          "iopub.execute_input": "2022-10-28T07:17:33.634801Z",
          "iopub.status.busy": "2022-10-28T07:17:33.634519Z",
          "iopub.status.idle": "2022-10-28T07:17:33.879800Z",
          "shell.execute_reply": "2022-10-28T07:17:33.879044Z",
          "shell.execute_reply.started": "2022-10-28T07:17:33.634777Z"
        },
        "id": "5fb280d8-d333-48c9-af2d-ed4036d7d143",
        "outputId": "6f36e92c-6068-43bc-aaf6-6459338f1580"
      },
      "outputs": [
        {
          "name": "stdout",
          "output_type": "stream",
          "text": [
            "<class 'pandas.core.frame.DataFrame'>\n",
            "RangeIndex: 461773 entries, 0 to 461772\n",
            "Data columns (total 7 columns):\n",
            " #   Column        Non-Null Count   Dtype  \n",
            "---  ------        --------------   -----  \n",
            " 0   order_id      461773 non-null  object \n",
            " 1   product_code  461773 non-null  object \n",
            " 2   product_name  459055 non-null  object \n",
            " 3   quantity      461773 non-null  int64  \n",
            " 4   order_date    461773 non-null  object \n",
            " 5   price         461773 non-null  float64\n",
            " 6   customer_id   360853 non-null  float64\n",
            "dtypes: float64(2), int64(1), object(4)\n",
            "memory usage: 24.7+ MB\n"
          ]
        }
      ],
      "source": [
        "df.info()"
      ]
    },
    {
      "cell_type": "markdown",
      "id": "bcb2db12-45f4-4394-9105-ae7eff18f8c7",
      "metadata": {
        "id": "bcb2db12-45f4-4394-9105-ae7eff18f8c7"
      },
      "source": [
        "# Data cleansing"
      ]
    },
    {
      "cell_type": "code",
      "execution_count": 10,
      "id": "3741ccdd-9a53-4f03-95cb-32c09495a815",
      "metadata": {
        "colab": {
          "base_uri": "https://localhost:8080/",
          "height": 774
        },
        "execution": {
          "iopub.execute_input": "2022-10-28T07:34:28.643042Z",
          "iopub.status.busy": "2022-10-28T07:34:28.642727Z",
          "iopub.status.idle": "2022-10-28T07:34:30.230472Z",
          "shell.execute_reply": "2022-10-28T07:34:30.229498Z",
          "shell.execute_reply.started": "2022-10-28T07:34:28.643016Z"
        },
        "id": "3741ccdd-9a53-4f03-95cb-32c09495a815",
        "outputId": "15bf4601-8ca9-4ece-b44c-4bd89bc82698",
        "tags": []
      },
      "outputs": [
        {
          "data": {
            "application/vnd.microsoft.datawrangler.viewer.v0+json": {
              "columns": [
                {
                  "name": "index",
                  "rawType": "int64",
                  "type": "integer"
                },
                {
                  "name": "order_id",
                  "rawType": "object",
                  "type": "string"
                },
                {
                  "name": "product_code",
                  "rawType": "object",
                  "type": "string"
                },
                {
                  "name": "product_name",
                  "rawType": "object",
                  "type": "string"
                },
                {
                  "name": "quantity",
                  "rawType": "int64",
                  "type": "integer"
                },
                {
                  "name": "order_date",
                  "rawType": "datetime64[ns]",
                  "type": "datetime"
                },
                {
                  "name": "price",
                  "rawType": "float64",
                  "type": "float"
                },
                {
                  "name": "customer_id",
                  "rawType": "object",
                  "type": "string"
                },
                {
                  "name": "year_month",
                  "rawType": "period[M]",
                  "type": "unknown"
                },
                {
                  "name": "order_status",
                  "rawType": "object",
                  "type": "string"
                },
                {
                  "name": "amount",
                  "rawType": "float64",
                  "type": "float"
                }
              ],
              "conversionMethod": "pd.DataFrame",
              "ref": "6ed43a0f-9036-4cfb-9df7-631a14d172bb",
              "rows": [
                [
                  "0",
                  "C493411",
                  "21539",
                  "red retrospot butter dish",
                  "1",
                  "2010-01-04 09:43:00",
                  "4.25",
                  "14590.0",
                  "2010-01",
                  "cancelled",
                  "4.25"
                ],
                [
                  "1",
                  "493414",
                  "21844",
                  "red retrospot mug",
                  "36",
                  "2010-01-04 10:28:00",
                  "2.55",
                  "14590.0",
                  "2010-01",
                  "delivered",
                  "91.8"
                ],
                [
                  "2",
                  "493414",
                  "21533",
                  "retro spot large milk jug",
                  "12",
                  "2010-01-04 10:28:00",
                  "4.25",
                  "14590.0",
                  "2010-01",
                  "delivered",
                  "51.0"
                ],
                [
                  "3",
                  "493414",
                  "37508",
                  "new england ceramic cake server",
                  "2",
                  "2010-01-04 10:28:00",
                  "2.55",
                  "14590.0",
                  "2010-01",
                  "delivered",
                  "5.1"
                ],
                [
                  "4",
                  "493414",
                  "35001G",
                  "hand open shape gold",
                  "2",
                  "2010-01-04 10:28:00",
                  "4.25",
                  "14590.0",
                  "2010-01",
                  "delivered",
                  "8.5"
                ],
                [
                  "5",
                  "493414",
                  "21527",
                  "red retrospot traditional teapot",
                  "12",
                  "2010-01-04 10:28:00",
                  "6.95",
                  "14590.0",
                  "2010-01",
                  "delivered",
                  "83.4"
                ],
                [
                  "6",
                  "493414",
                  "21531",
                  "red retrospot sugar jam bowl",
                  "24",
                  "2010-01-04 10:28:00",
                  "2.1",
                  "14590.0",
                  "2010-01",
                  "delivered",
                  "50.400000000000006"
                ],
                [
                  "7",
                  "C493415",
                  "21527",
                  "red retrospot traditional teapot",
                  "3",
                  "2010-01-04 10:33:00",
                  "7.95",
                  "14590.0",
                  "2010-01",
                  "cancelled",
                  "23.85"
                ],
                [
                  "8",
                  "C493426",
                  "22109",
                  "full english breakfast plate",
                  "1",
                  "2010-01-04 10:41:00",
                  "3.39",
                  "16550.0",
                  "2010-01",
                  "cancelled",
                  "3.39"
                ],
                [
                  "9",
                  "493427",
                  "82483",
                  "wood 2 drawer cabinet white finish",
                  "4",
                  "2010-01-04 10:43:00",
                  "5.95",
                  "13287.0",
                  "2010-01",
                  "delivered",
                  "23.8"
                ],
                [
                  "10",
                  "493427",
                  "21681",
                  "giant medina stamped metal bowl",
                  "2",
                  "2010-01-04 10:43:00",
                  "9.95",
                  "13287.0",
                  "2010-01",
                  "delivered",
                  "19.9"
                ],
                [
                  "11",
                  "493427",
                  "21682",
                  "large medina stamped metal bowl",
                  "4",
                  "2010-01-04 10:43:00",
                  "4.95",
                  "13287.0",
                  "2010-01",
                  "delivered",
                  "19.8"
                ],
                [
                  "12",
                  "493427",
                  "18096C",
                  "white round porcelain tlight holder",
                  "6",
                  "2010-01-04 10:43:00",
                  "2.55",
                  "13287.0",
                  "2010-01",
                  "delivered",
                  "15.299999999999999"
                ],
                [
                  "13",
                  "493427",
                  "21577",
                  "save the planet cotton tote bag",
                  "6",
                  "2010-01-04 10:43:00",
                  "2.25",
                  "13287.0",
                  "2010-01",
                  "delivered",
                  "13.5"
                ],
                [
                  "14",
                  "493427",
                  "21576",
                  "lets go shopping cotton tote bag",
                  "6",
                  "2010-01-04 10:43:00",
                  "2.25",
                  "13287.0",
                  "2010-01",
                  "delivered",
                  "13.5"
                ],
                [
                  "15",
                  "493427",
                  "37447",
                  "ceramic cake design spotted plate",
                  "12",
                  "2010-01-04 10:43:00",
                  "1.49",
                  "13287.0",
                  "2010-01",
                  "delivered",
                  "17.88"
                ],
                [
                  "16",
                  "493427",
                  "21232",
                  "strawberry ceramic trinket box",
                  "12",
                  "2010-01-04 10:43:00",
                  "1.25",
                  "13287.0",
                  "2010-01",
                  "delivered",
                  "15.0"
                ],
                [
                  "17",
                  "493427",
                  "79000",
                  "moroccan tea glass",
                  "12",
                  "2010-01-04 10:43:00",
                  "0.85",
                  "13287.0",
                  "2010-01",
                  "delivered",
                  "10.2"
                ],
                [
                  "18",
                  "493427",
                  "84499",
                  "black flower candle plate",
                  "12",
                  "2010-01-04 10:43:00",
                  "0.85",
                  "13287.0",
                  "2010-01",
                  "delivered",
                  "10.2"
                ],
                [
                  "19",
                  "493427",
                  "72780",
                  "black silouette candle plate",
                  "12",
                  "2010-01-04 10:43:00",
                  "0.85",
                  "13287.0",
                  "2010-01",
                  "delivered",
                  "10.2"
                ],
                [
                  "20",
                  "493427",
                  "22214",
                  "candle plate lace white",
                  "6",
                  "2010-01-04 10:43:00",
                  "2.55",
                  "13287.0",
                  "2010-01",
                  "delivered",
                  "15.299999999999999"
                ],
                [
                  "21",
                  "493427",
                  "72369A",
                  "pink clear glass candle plate",
                  "6",
                  "2010-01-04 10:43:00",
                  "1.25",
                  "13287.0",
                  "2010-01",
                  "delivered",
                  "7.5"
                ],
                [
                  "22",
                  "493427",
                  "21428",
                  "set3 book box green gingham flower",
                  "4",
                  "2010-01-04 10:43:00",
                  "4.25",
                  "13287.0",
                  "2010-01",
                  "delivered",
                  "17.0"
                ],
                [
                  "23",
                  "493427",
                  "22178",
                  "victorian glass hanging t-light",
                  "12",
                  "2010-01-04 10:43:00",
                  "1.25",
                  "13287.0",
                  "2010-01",
                  "delivered",
                  "15.0"
                ],
                [
                  "24",
                  "493427",
                  "84615",
                  "pink round butterfly mirror",
                  "2",
                  "2010-01-04 10:43:00",
                  "7.95",
                  "13287.0",
                  "2010-01",
                  "delivered",
                  "15.9"
                ],
                [
                  "25",
                  "493427",
                  "84686",
                  "beach hut mirror",
                  "2",
                  "2010-01-04 10:43:00",
                  "4.25",
                  "13287.0",
                  "2010-01",
                  "delivered",
                  "8.5"
                ],
                [
                  "26",
                  "493427",
                  "21777",
                  "recipe box with metal heart",
                  "2",
                  "2010-01-04 10:43:00",
                  "7.95",
                  "13287.0",
                  "2010-01",
                  "delivered",
                  "15.9"
                ],
                [
                  "27",
                  "493428",
                  "84563A",
                  "pink & white breakfast tray",
                  "1",
                  "2010-01-04 11:15:00",
                  "5.95",
                  "16550.0",
                  "2010-01",
                  "delivered",
                  "5.95"
                ],
                [
                  "28",
                  "493428",
                  "84562A",
                  "pink/white ribbed melamine jug",
                  "1",
                  "2010-01-04 11:15:00",
                  "7.95",
                  "16550.0",
                  "2010-01",
                  "delivered",
                  "7.95"
                ],
                [
                  "29",
                  "493428",
                  "22347",
                  "pizza slice dish",
                  "6",
                  "2010-01-04 11:15:00",
                  "1.25",
                  "16550.0",
                  "2010-01",
                  "delivered",
                  "7.5"
                ],
                [
                  "30",
                  "493428",
                  "21658",
                  "glass  beurre dish",
                  "2",
                  "2010-01-04 11:15:00",
                  "3.95",
                  "16550.0",
                  "2010-01",
                  "delivered",
                  "7.9"
                ],
                [
                  "31",
                  "493428",
                  "22084",
                  "paper chain kit empire",
                  "4",
                  "2010-01-04 11:15:00",
                  "2.95",
                  "16550.0",
                  "2010-01",
                  "delivered",
                  "11.8"
                ],
                [
                  "32",
                  "493428",
                  "22083",
                  "paper chain kit retro spot",
                  "6",
                  "2010-01-04 11:15:00",
                  "2.95",
                  "16550.0",
                  "2010-01",
                  "delivered",
                  "17.700000000000003"
                ],
                [
                  "33",
                  "493428",
                  "22197",
                  "small popcorn holder",
                  "6",
                  "2010-01-04 11:15:00",
                  "0.85",
                  "16550.0",
                  "2010-01",
                  "delivered",
                  "5.1"
                ],
                [
                  "34",
                  "493428",
                  "22198",
                  "large popcorn holder",
                  "6",
                  "2010-01-04 11:15:00",
                  "1.65",
                  "16550.0",
                  "2010-01",
                  "delivered",
                  "9.899999999999999"
                ],
                [
                  "35",
                  "493428",
                  "84988",
                  "set of 72 pink heart paper doilies",
                  "10",
                  "2010-01-04 11:15:00",
                  "1.45",
                  "16550.0",
                  "2010-01",
                  "delivered",
                  "14.5"
                ],
                [
                  "36",
                  "493428",
                  "21559",
                  "strawberry lunch box with cutlery",
                  "4",
                  "2010-01-04 11:15:00",
                  "2.55",
                  "16550.0",
                  "2010-01",
                  "delivered",
                  "10.2"
                ],
                [
                  "37",
                  "493428",
                  "21558",
                  "skull lunch box with cutlery",
                  "1",
                  "2010-01-04 11:15:00",
                  "2.55",
                  "16550.0",
                  "2010-01",
                  "delivered",
                  "2.55"
                ],
                [
                  "38",
                  "493428",
                  "22353",
                  "lunch box with cutlery fairy cakes",
                  "4",
                  "2010-01-04 11:15:00",
                  "2.55",
                  "16550.0",
                  "2010-01",
                  "delivered",
                  "10.2"
                ],
                [
                  "39",
                  "493428",
                  "21561",
                  "dinosaur lunch box with cutlery",
                  "4",
                  "2010-01-04 11:15:00",
                  "2.55",
                  "16550.0",
                  "2010-01",
                  "delivered",
                  "10.2"
                ],
                [
                  "40",
                  "493428",
                  "21622",
                  "vintage union jack cushion cover",
                  "6",
                  "2010-01-04 11:15:00",
                  "4.95",
                  "16550.0",
                  "2010-01",
                  "delivered",
                  "29.700000000000003"
                ],
                [
                  "41",
                  "493428",
                  "21411",
                  "gingham heart  doorstop red",
                  "2",
                  "2010-01-04 11:15:00",
                  "4.25",
                  "16550.0",
                  "2010-01",
                  "delivered",
                  "8.5"
                ],
                [
                  "42",
                  "493428",
                  "20682",
                  "red spotty childs umbrella",
                  "2",
                  "2010-01-04 11:15:00",
                  "3.25",
                  "16550.0",
                  "2010-01",
                  "delivered",
                  "6.5"
                ],
                [
                  "43",
                  "493428",
                  "20686",
                  "dolly mixture children's umbrella",
                  "2",
                  "2010-01-04 11:15:00",
                  "3.25",
                  "16550.0",
                  "2010-01",
                  "delivered",
                  "6.5"
                ],
                [
                  "44",
                  "493428",
                  "20681",
                  "pink spotty childs umbrella",
                  "2",
                  "2010-01-04 11:15:00",
                  "3.25",
                  "16550.0",
                  "2010-01",
                  "delivered",
                  "6.5"
                ],
                [
                  "45",
                  "493428",
                  "20754",
                  "retro red spotty washing up gloves",
                  "3",
                  "2010-01-04 11:15:00",
                  "2.1",
                  "16550.0",
                  "2010-01",
                  "delivered",
                  "6.300000000000001"
                ],
                [
                  "46",
                  "493428",
                  "20752",
                  "retro blue spotty washing up gloves",
                  "3",
                  "2010-01-04 11:15:00",
                  "2.1",
                  "16550.0",
                  "2010-01",
                  "delivered",
                  "6.300000000000001"
                ],
                [
                  "47",
                  "493428",
                  "22190",
                  "local cafe mug",
                  "4",
                  "2010-01-04 11:15:00",
                  "2.1",
                  "16550.0",
                  "2010-01",
                  "delivered",
                  "8.4"
                ],
                [
                  "48",
                  "493428",
                  "21843",
                  "red retrospot cake stand",
                  "1",
                  "2010-01-04 11:15:00",
                  "10.95",
                  "16550.0",
                  "2010-01",
                  "delivered",
                  "10.95"
                ],
                [
                  "49",
                  "493428",
                  "79320",
                  "flamingo lights",
                  "2",
                  "2010-01-04 11:15:00",
                  "4.95",
                  "16550.0",
                  "2010-01",
                  "delivered",
                  "9.9"
                ]
              ],
              "shape": {
                "columns": 10,
                "rows": 358469
              }
            },
            "text/html": [
              "<div>\n",
              "<style scoped>\n",
              "    .dataframe tbody tr th:only-of-type {\n",
              "        vertical-align: middle;\n",
              "    }\n",
              "\n",
              "    .dataframe tbody tr th {\n",
              "        vertical-align: top;\n",
              "    }\n",
              "\n",
              "    .dataframe thead th {\n",
              "        text-align: right;\n",
              "    }\n",
              "</style>\n",
              "<table border=\"1\" class=\"dataframe\">\n",
              "  <thead>\n",
              "    <tr style=\"text-align: right;\">\n",
              "      <th></th>\n",
              "      <th>order_id</th>\n",
              "      <th>product_code</th>\n",
              "      <th>product_name</th>\n",
              "      <th>quantity</th>\n",
              "      <th>order_date</th>\n",
              "      <th>price</th>\n",
              "      <th>customer_id</th>\n",
              "      <th>year_month</th>\n",
              "      <th>order_status</th>\n",
              "      <th>amount</th>\n",
              "    </tr>\n",
              "  </thead>\n",
              "  <tbody>\n",
              "    <tr>\n",
              "      <th>0</th>\n",
              "      <td>C493411</td>\n",
              "      <td>21539</td>\n",
              "      <td>red retrospot butter dish</td>\n",
              "      <td>1</td>\n",
              "      <td>2010-01-04 09:43:00</td>\n",
              "      <td>4.25</td>\n",
              "      <td>14590.0</td>\n",
              "      <td>2010-01</td>\n",
              "      <td>cancelled</td>\n",
              "      <td>4.25</td>\n",
              "    </tr>\n",
              "    <tr>\n",
              "      <th>1</th>\n",
              "      <td>493414</td>\n",
              "      <td>21844</td>\n",
              "      <td>red retrospot mug</td>\n",
              "      <td>36</td>\n",
              "      <td>2010-01-04 10:28:00</td>\n",
              "      <td>2.55</td>\n",
              "      <td>14590.0</td>\n",
              "      <td>2010-01</td>\n",
              "      <td>delivered</td>\n",
              "      <td>91.80</td>\n",
              "    </tr>\n",
              "    <tr>\n",
              "      <th>2</th>\n",
              "      <td>493414</td>\n",
              "      <td>21533</td>\n",
              "      <td>retro spot large milk jug</td>\n",
              "      <td>12</td>\n",
              "      <td>2010-01-04 10:28:00</td>\n",
              "      <td>4.25</td>\n",
              "      <td>14590.0</td>\n",
              "      <td>2010-01</td>\n",
              "      <td>delivered</td>\n",
              "      <td>51.00</td>\n",
              "    </tr>\n",
              "    <tr>\n",
              "      <th>3</th>\n",
              "      <td>493414</td>\n",
              "      <td>37508</td>\n",
              "      <td>new england ceramic cake server</td>\n",
              "      <td>2</td>\n",
              "      <td>2010-01-04 10:28:00</td>\n",
              "      <td>2.55</td>\n",
              "      <td>14590.0</td>\n",
              "      <td>2010-01</td>\n",
              "      <td>delivered</td>\n",
              "      <td>5.10</td>\n",
              "    </tr>\n",
              "    <tr>\n",
              "      <th>4</th>\n",
              "      <td>493414</td>\n",
              "      <td>35001G</td>\n",
              "      <td>hand open shape gold</td>\n",
              "      <td>2</td>\n",
              "      <td>2010-01-04 10:28:00</td>\n",
              "      <td>4.25</td>\n",
              "      <td>14590.0</td>\n",
              "      <td>2010-01</td>\n",
              "      <td>delivered</td>\n",
              "      <td>8.50</td>\n",
              "    </tr>\n",
              "    <tr>\n",
              "      <th>...</th>\n",
              "      <td>...</td>\n",
              "      <td>...</td>\n",
              "      <td>...</td>\n",
              "      <td>...</td>\n",
              "      <td>...</td>\n",
              "      <td>...</td>\n",
              "      <td>...</td>\n",
              "      <td>...</td>\n",
              "      <td>...</td>\n",
              "      <td>...</td>\n",
              "    </tr>\n",
              "    <tr>\n",
              "      <th>358464</th>\n",
              "      <td>539988</td>\n",
              "      <td>84380</td>\n",
              "      <td>set of 3 butterfly cookie cutters</td>\n",
              "      <td>1</td>\n",
              "      <td>2010-12-23 16:06:00</td>\n",
              "      <td>1.25</td>\n",
              "      <td>18116.0</td>\n",
              "      <td>2010-12</td>\n",
              "      <td>delivered</td>\n",
              "      <td>1.25</td>\n",
              "    </tr>\n",
              "    <tr>\n",
              "      <th>358465</th>\n",
              "      <td>539988</td>\n",
              "      <td>84849D</td>\n",
              "      <td>hot baths soap holder</td>\n",
              "      <td>1</td>\n",
              "      <td>2010-12-23 16:06:00</td>\n",
              "      <td>1.69</td>\n",
              "      <td>18116.0</td>\n",
              "      <td>2010-12</td>\n",
              "      <td>delivered</td>\n",
              "      <td>1.69</td>\n",
              "    </tr>\n",
              "    <tr>\n",
              "      <th>358466</th>\n",
              "      <td>539988</td>\n",
              "      <td>84849B</td>\n",
              "      <td>fairy soap soap holder</td>\n",
              "      <td>1</td>\n",
              "      <td>2010-12-23 16:06:00</td>\n",
              "      <td>1.69</td>\n",
              "      <td>18116.0</td>\n",
              "      <td>2010-12</td>\n",
              "      <td>delivered</td>\n",
              "      <td>1.69</td>\n",
              "    </tr>\n",
              "    <tr>\n",
              "      <th>358467</th>\n",
              "      <td>539988</td>\n",
              "      <td>22854</td>\n",
              "      <td>cream sweetheart egg holder</td>\n",
              "      <td>2</td>\n",
              "      <td>2010-12-23 16:06:00</td>\n",
              "      <td>4.95</td>\n",
              "      <td>18116.0</td>\n",
              "      <td>2010-12</td>\n",
              "      <td>delivered</td>\n",
              "      <td>9.90</td>\n",
              "    </tr>\n",
              "    <tr>\n",
              "      <th>358468</th>\n",
              "      <td>539988</td>\n",
              "      <td>47559B</td>\n",
              "      <td>tea time oven glove</td>\n",
              "      <td>2</td>\n",
              "      <td>2010-12-23 16:06:00</td>\n",
              "      <td>1.25</td>\n",
              "      <td>18116.0</td>\n",
              "      <td>2010-12</td>\n",
              "      <td>delivered</td>\n",
              "      <td>2.50</td>\n",
              "    </tr>\n",
              "  </tbody>\n",
              "</table>\n",
              "<p>358469 rows × 10 columns</p>\n",
              "</div>"
            ],
            "text/plain": [
              "       order_id product_code                       product_name  quantity  \\\n",
              "0       C493411        21539          red retrospot butter dish         1   \n",
              "1        493414        21844                  red retrospot mug        36   \n",
              "2        493414        21533          retro spot large milk jug        12   \n",
              "3        493414        37508    new england ceramic cake server         2   \n",
              "4        493414       35001G               hand open shape gold         2   \n",
              "...         ...          ...                                ...       ...   \n",
              "358464   539988        84380  set of 3 butterfly cookie cutters         1   \n",
              "358465   539988       84849D              hot baths soap holder         1   \n",
              "358466   539988       84849B             fairy soap soap holder         1   \n",
              "358467   539988        22854        cream sweetheart egg holder         2   \n",
              "358468   539988       47559B                tea time oven glove         2   \n",
              "\n",
              "                order_date  price customer_id year_month order_status  amount  \n",
              "0      2010-01-04 09:43:00   4.25     14590.0    2010-01    cancelled    4.25  \n",
              "1      2010-01-04 10:28:00   2.55     14590.0    2010-01    delivered   91.80  \n",
              "2      2010-01-04 10:28:00   4.25     14590.0    2010-01    delivered   51.00  \n",
              "3      2010-01-04 10:28:00   2.55     14590.0    2010-01    delivered    5.10  \n",
              "4      2010-01-04 10:28:00   4.25     14590.0    2010-01    delivered    8.50  \n",
              "...                    ...    ...         ...        ...          ...     ...  \n",
              "358464 2010-12-23 16:06:00   1.25     18116.0    2010-12    delivered    1.25  \n",
              "358465 2010-12-23 16:06:00   1.69     18116.0    2010-12    delivered    1.69  \n",
              "358466 2010-12-23 16:06:00   1.69     18116.0    2010-12    delivered    1.69  \n",
              "358467 2010-12-23 16:06:00   4.95     18116.0    2010-12    delivered    9.90  \n",
              "358468 2010-12-23 16:06:00   1.25     18116.0    2010-12    delivered    2.50  \n",
              "\n",
              "[358469 rows x 10 columns]"
            ]
          },
          "execution_count": 10,
          "metadata": {},
          "output_type": "execute_result"
        }
      ],
      "source": [
        "df_clean = df.copy()\n",
        "\n",
        "# Mengkonversi kolom order_date menjadi datetime dengan presisi nanosecond\n",
        "df_clean['order_date'] = df_clean['order_date'].astype('datetime64[ns]')\n",
        "\n",
        "# Membuat kolom year_month\n",
        "df_clean['year_month'] = df_clean['order_date'].dt.to_period('M')\n",
        "\n",
        "# Menghapus semua baris tanpa customer_id\n",
        "df_clean = df_clean[~df_clean['customer_id'].isna()]\n",
        "\n",
        "# Menghapus semua baris tanpa product_name\n",
        "df_clean = df_clean[~df_clean['product_name'].isna()]\n",
        "\n",
        "# Membuat semua product_name berhuruf kecil\n",
        "df_clean['product_name'] = df_clean['product_name'].str.lower()\n",
        "\n",
        "# Menghapus semua baris dengan product_code atau product_name yang mengandung 'test'\n",
        "df_clean = df_clean[(~df_clean['product_code'].str.lower().str.contains('test')) |\n",
        "                    (~df_clean['product_name'].str.contains('test '))]\n",
        "\n",
        "# Membuat kolom order_status\n",
        "df_clean['order_status'] = np.where(df_clean['order_id'].str[:1] == 'C', 'cancelled', 'delivered')\n",
        "\n",
        "# Mengubah nilai quantity yang negatif menjadi positif\n",
        "df_clean['quantity'] = df_clean['quantity'].abs()\n",
        "\n",
        "# Menghapus baris dengan price bernilai negatif\n",
        "df_clean = df_clean[df_clean['price'] > 0]\n",
        "\n",
        "# Membuat nilai amount\n",
        "df_clean['amount'] = df_clean['quantity'] * df_clean['price']\n",
        "\n",
        "# Mengganti product_name dengan yang paling sering muncul berdasarkan product_code\n",
        "most_freq_product_name = df_clean.groupby(['product_code', 'product_name'], as_index=False).agg(order_cnt=('order_id', 'nunique')).sort_values(['product_code', 'order_cnt'], ascending=[True, False])\n",
        "most_freq_product_name['rank'] = most_freq_product_name.groupby('product_code')['order_cnt'].rank(method='first', ascending=False)\n",
        "most_freq_product_name = most_freq_product_name[most_freq_product_name['rank'] == 1].drop(columns=['order_cnt', 'rank'])\n",
        "df_clean = df_clean.merge(most_freq_product_name.rename(columns={'product_name': 'most_freq_product_name'}), how='left', on='product_code')\n",
        "df_clean['product_name'] = df_clean['most_freq_product_name']\n",
        "df_clean = df_clean.drop(columns='most_freq_product_name')\n",
        "\n",
        "# Mengkonversi customer_id menjadi string\n",
        "df_clean['customer_id'] = df_clean['customer_id'].astype(str)\n",
        "\n",
        "# Menghapus outlier\n",
        "df_clean = df_clean[(np.abs(stats.zscore(df_clean[['quantity', 'amount']])) < 3).all(axis=1)]\n",
        "\n",
        "# Reset index\n",
        "df_clean = df_clean.reset_index(drop=True)\n",
        "\n",
        "# Tampilkan hasil\n",
        "df_clean"
      ]
    },
    {
      "cell_type": "code",
      "execution_count": 11,
      "id": "cfa2c33e-ec2b-44c9-ac3b-591c9b689c8f",
      "metadata": {
        "colab": {
          "base_uri": "https://localhost:8080/"
        },
        "execution": {
          "iopub.execute_input": "2022-10-28T07:34:30.234084Z",
          "iopub.status.busy": "2022-10-28T07:34:30.232990Z",
          "iopub.status.idle": "2022-10-28T07:34:30.473119Z",
          "shell.execute_reply": "2022-10-28T07:34:30.472284Z",
          "shell.execute_reply.started": "2022-10-28T07:34:30.234044Z"
        },
        "id": "cfa2c33e-ec2b-44c9-ac3b-591c9b689c8f",
        "outputId": "f209887f-873f-4aaa-f855-8492126d126d",
        "tags": []
      },
      "outputs": [
        {
          "name": "stdout",
          "output_type": "stream",
          "text": [
            "<class 'pandas.core.frame.DataFrame'>\n",
            "RangeIndex: 358469 entries, 0 to 358468\n",
            "Data columns (total 10 columns):\n",
            " #   Column        Non-Null Count   Dtype         \n",
            "---  ------        --------------   -----         \n",
            " 0   order_id      358469 non-null  object        \n",
            " 1   product_code  358469 non-null  object        \n",
            " 2   product_name  358469 non-null  object        \n",
            " 3   quantity      358469 non-null  int64         \n",
            " 4   order_date    358469 non-null  datetime64[ns]\n",
            " 5   price         358469 non-null  float64       \n",
            " 6   customer_id   358469 non-null  object        \n",
            " 7   year_month    358469 non-null  period[M]     \n",
            " 8   order_status  358469 non-null  object        \n",
            " 9   amount        358469 non-null  float64       \n",
            "dtypes: datetime64[ns](1), float64(2), int64(1), object(5), period[M](1)\n",
            "memory usage: 27.3+ MB\n"
          ]
        }
      ],
      "source": [
        "df_clean.info()"
      ]
    },
    {
      "cell_type": "markdown",
      "id": "71cc4605-87bd-45ed-b397-7ab6f71285f0",
      "metadata": {
        "id": "71cc4605-87bd-45ed-b397-7ab6f71285f0",
        "tags": []
      },
      "source": [
        "# User retention cohort"
      ]
    },
    {
      "cell_type": "markdown",
      "id": "2eba008f-4ae4-4d40-82a5-efbbea0099ba",
      "metadata": {
        "id": "2eba008f-4ae4-4d40-82a5-efbbea0099ba"
      },
      "source": [
        "## Agregat data transaksi ke bentuk summary total transaksi/order setiap pengguna setiap bulan\n",
        "\n",
        "Menampilkan setiap customer id tersebut bertransaksi di bulan dan tahun berapa sebanyak berapa kali"
      ]
    },
    {
      "cell_type": "code",
      "execution_count": 12,
      "id": "5575e347-bd83-438b-8952-17f35c8b1406",
      "metadata": {
        "colab": {
          "base_uri": "https://localhost:8080/",
          "height": 424
        },
        "execution": {
          "iopub.execute_input": "2022-10-28T07:35:34.871399Z",
          "iopub.status.busy": "2022-10-28T07:35:34.871036Z",
          "iopub.status.idle": "2022-10-28T07:35:34.995100Z",
          "shell.execute_reply": "2022-10-28T07:35:34.993698Z",
          "shell.execute_reply.started": "2022-10-28T07:35:34.871332Z"
        },
        "id": "5575e347-bd83-438b-8952-17f35c8b1406",
        "outputId": "bdc19749-5ba0-4e2e-d4d5-af080dd19333",
        "tags": []
      },
      "outputs": [
        {
          "data": {
            "application/vnd.microsoft.datawrangler.viewer.v0+json": {
              "columns": [
                {
                  "name": "index",
                  "rawType": "int64",
                  "type": "integer"
                },
                {
                  "name": "customer_id",
                  "rawType": "object",
                  "type": "string"
                },
                {
                  "name": "year_month",
                  "rawType": "period[M]",
                  "type": "unknown"
                },
                {
                  "name": "order_cnt",
                  "rawType": "int64",
                  "type": "integer"
                }
              ],
              "conversionMethod": "pd.DataFrame",
              "ref": "737a5a0f-91ed-4013-9330-07e29a8c1137",
              "rows": [
                [
                  "0",
                  "12346.0",
                  "2010-01",
                  "1"
                ],
                [
                  "1",
                  "12346.0",
                  "2010-03",
                  "1"
                ],
                [
                  "2",
                  "12346.0",
                  "2010-06",
                  "2"
                ],
                [
                  "3",
                  "12346.0",
                  "2010-10",
                  "1"
                ],
                [
                  "4",
                  "12608.0",
                  "2010-10",
                  "1"
                ],
                [
                  "5",
                  "12745.0",
                  "2010-05",
                  "1"
                ],
                [
                  "6",
                  "12745.0",
                  "2010-08",
                  "1"
                ],
                [
                  "7",
                  "12746.0",
                  "2010-06",
                  "2"
                ],
                [
                  "8",
                  "12747.0",
                  "2010-02",
                  "3"
                ],
                [
                  "9",
                  "12747.0",
                  "2010-03",
                  "2"
                ],
                [
                  "10",
                  "12747.0",
                  "2010-04",
                  "2"
                ],
                [
                  "11",
                  "12747.0",
                  "2010-05",
                  "1"
                ],
                [
                  "12",
                  "12747.0",
                  "2010-06",
                  "3"
                ],
                [
                  "13",
                  "12747.0",
                  "2010-08",
                  "2"
                ],
                [
                  "14",
                  "12747.0",
                  "2010-10",
                  "2"
                ],
                [
                  "15",
                  "12747.0",
                  "2010-11",
                  "2"
                ],
                [
                  "16",
                  "12747.0",
                  "2010-12",
                  "2"
                ],
                [
                  "17",
                  "12748.0",
                  "2010-01",
                  "6"
                ],
                [
                  "18",
                  "12748.0",
                  "2010-02",
                  "11"
                ],
                [
                  "19",
                  "12748.0",
                  "2010-03",
                  "9"
                ],
                [
                  "20",
                  "12748.0",
                  "2010-04",
                  "4"
                ],
                [
                  "21",
                  "12748.0",
                  "2010-05",
                  "8"
                ],
                [
                  "22",
                  "12748.0",
                  "2010-06",
                  "7"
                ],
                [
                  "23",
                  "12748.0",
                  "2010-07",
                  "10"
                ],
                [
                  "24",
                  "12748.0",
                  "2010-08",
                  "11"
                ],
                [
                  "25",
                  "12748.0",
                  "2010-09",
                  "12"
                ],
                [
                  "26",
                  "12748.0",
                  "2010-10",
                  "22"
                ],
                [
                  "27",
                  "12748.0",
                  "2010-11",
                  "26"
                ],
                [
                  "28",
                  "12748.0",
                  "2010-12",
                  "37"
                ],
                [
                  "29",
                  "12749.0",
                  "2010-07",
                  "3"
                ],
                [
                  "30",
                  "12749.0",
                  "2010-10",
                  "2"
                ],
                [
                  "31",
                  "12749.0",
                  "2010-11",
                  "3"
                ],
                [
                  "32",
                  "12777.0",
                  "2010-09",
                  "1"
                ],
                [
                  "33",
                  "12819.0",
                  "2010-09",
                  "1"
                ],
                [
                  "34",
                  "12820.0",
                  "2010-01",
                  "1"
                ],
                [
                  "35",
                  "12820.0",
                  "2010-02",
                  "1"
                ],
                [
                  "36",
                  "12820.0",
                  "2010-05",
                  "3"
                ],
                [
                  "37",
                  "12820.0",
                  "2010-07",
                  "1"
                ],
                [
                  "38",
                  "12820.0",
                  "2010-10",
                  "1"
                ],
                [
                  "39",
                  "12820.0",
                  "2010-11",
                  "1"
                ],
                [
                  "40",
                  "12821.0",
                  "2010-04",
                  "1"
                ],
                [
                  "41",
                  "12823.0",
                  "2010-03",
                  "1"
                ],
                [
                  "42",
                  "12823.0",
                  "2010-06",
                  "2"
                ],
                [
                  "43",
                  "12823.0",
                  "2010-07",
                  "1"
                ],
                [
                  "44",
                  "12825.0",
                  "2010-03",
                  "1"
                ],
                [
                  "45",
                  "12825.0",
                  "2010-07",
                  "1"
                ],
                [
                  "46",
                  "12826.0",
                  "2010-01",
                  "1"
                ],
                [
                  "47",
                  "12826.0",
                  "2010-07",
                  "1"
                ],
                [
                  "48",
                  "12826.0",
                  "2010-08",
                  "2"
                ],
                [
                  "49",
                  "12826.0",
                  "2010-10",
                  "2"
                ]
              ],
              "shape": {
                "columns": 3,
                "rows": 12044
              }
            },
            "text/html": [
              "<div>\n",
              "<style scoped>\n",
              "    .dataframe tbody tr th:only-of-type {\n",
              "        vertical-align: middle;\n",
              "    }\n",
              "\n",
              "    .dataframe tbody tr th {\n",
              "        vertical-align: top;\n",
              "    }\n",
              "\n",
              "    .dataframe thead th {\n",
              "        text-align: right;\n",
              "    }\n",
              "</style>\n",
              "<table border=\"1\" class=\"dataframe\">\n",
              "  <thead>\n",
              "    <tr style=\"text-align: right;\">\n",
              "      <th></th>\n",
              "      <th>customer_id</th>\n",
              "      <th>year_month</th>\n",
              "      <th>order_cnt</th>\n",
              "    </tr>\n",
              "  </thead>\n",
              "  <tbody>\n",
              "    <tr>\n",
              "      <th>0</th>\n",
              "      <td>12346.0</td>\n",
              "      <td>2010-01</td>\n",
              "      <td>1</td>\n",
              "    </tr>\n",
              "    <tr>\n",
              "      <th>1</th>\n",
              "      <td>12346.0</td>\n",
              "      <td>2010-03</td>\n",
              "      <td>1</td>\n",
              "    </tr>\n",
              "    <tr>\n",
              "      <th>2</th>\n",
              "      <td>12346.0</td>\n",
              "      <td>2010-06</td>\n",
              "      <td>2</td>\n",
              "    </tr>\n",
              "    <tr>\n",
              "      <th>3</th>\n",
              "      <td>12346.0</td>\n",
              "      <td>2010-10</td>\n",
              "      <td>1</td>\n",
              "    </tr>\n",
              "    <tr>\n",
              "      <th>4</th>\n",
              "      <td>12608.0</td>\n",
              "      <td>2010-10</td>\n",
              "      <td>1</td>\n",
              "    </tr>\n",
              "    <tr>\n",
              "      <th>...</th>\n",
              "      <td>...</td>\n",
              "      <td>...</td>\n",
              "      <td>...</td>\n",
              "    </tr>\n",
              "    <tr>\n",
              "      <th>12039</th>\n",
              "      <td>18286.0</td>\n",
              "      <td>2010-06</td>\n",
              "      <td>1</td>\n",
              "    </tr>\n",
              "    <tr>\n",
              "      <th>12040</th>\n",
              "      <td>18286.0</td>\n",
              "      <td>2010-08</td>\n",
              "      <td>1</td>\n",
              "    </tr>\n",
              "    <tr>\n",
              "      <th>12041</th>\n",
              "      <td>18287.0</td>\n",
              "      <td>2010-05</td>\n",
              "      <td>1</td>\n",
              "    </tr>\n",
              "    <tr>\n",
              "      <th>12042</th>\n",
              "      <td>18287.0</td>\n",
              "      <td>2010-09</td>\n",
              "      <td>2</td>\n",
              "    </tr>\n",
              "    <tr>\n",
              "      <th>12043</th>\n",
              "      <td>18287.0</td>\n",
              "      <td>2010-11</td>\n",
              "      <td>1</td>\n",
              "    </tr>\n",
              "  </tbody>\n",
              "</table>\n",
              "<p>12044 rows × 3 columns</p>\n",
              "</div>"
            ],
            "text/plain": [
              "      customer_id year_month  order_cnt\n",
              "0         12346.0    2010-01          1\n",
              "1         12346.0    2010-03          1\n",
              "2         12346.0    2010-06          2\n",
              "3         12346.0    2010-10          1\n",
              "4         12608.0    2010-10          1\n",
              "...           ...        ...        ...\n",
              "12039     18286.0    2010-06          1\n",
              "12040     18286.0    2010-08          1\n",
              "12041     18287.0    2010-05          1\n",
              "12042     18287.0    2010-09          2\n",
              "12043     18287.0    2010-11          1\n",
              "\n",
              "[12044 rows x 3 columns]"
            ]
          },
          "execution_count": 12,
          "metadata": {},
          "output_type": "execute_result"
        }
      ],
      "source": [
        "df_user_monthly = df_clean.groupby(['customer_id','year_month'], as_index=False).agg(order_cnt=('order_id','nunique'))\n",
        "df_user_monthly"
      ]
    },
    {
      "cell_type": "markdown",
      "id": "06eaf0e9-59de-4b74-8209-4a9faa042fe0",
      "metadata": {
        "id": "06eaf0e9-59de-4b74-8209-4a9faa042fe0"
      },
      "source": [
        "## Buat kolom sebagai cohort dari user, misal cohort bulan pertama kali bertransaksi\n",
        "\n",
        "Mengelompokkan user berdasarkan bulan pertama kali bertransaksi di index 'cohort'"
      ]
    },
    {
      "cell_type": "code",
      "execution_count": 13,
      "id": "fd7261da-7690-4020-8363-1d6863657cc7",
      "metadata": {
        "colab": {
          "base_uri": "https://localhost:8080/",
          "height": 424
        },
        "execution": {
          "iopub.execute_input": "2022-10-28T07:36:30.193968Z",
          "iopub.status.busy": "2022-10-28T07:36:30.193692Z",
          "iopub.status.idle": "2022-10-28T07:36:30.221902Z",
          "shell.execute_reply": "2022-10-28T07:36:30.220239Z",
          "shell.execute_reply.started": "2022-10-28T07:36:30.193943Z"
        },
        "id": "fd7261da-7690-4020-8363-1d6863657cc7",
        "outputId": "28323499-854b-4830-b8db-62614e51eed2",
        "tags": []
      },
      "outputs": [
        {
          "data": {
            "application/vnd.microsoft.datawrangler.viewer.v0+json": {
              "columns": [
                {
                  "name": "index",
                  "rawType": "int64",
                  "type": "integer"
                },
                {
                  "name": "customer_id",
                  "rawType": "object",
                  "type": "string"
                },
                {
                  "name": "year_month",
                  "rawType": "period[M]",
                  "type": "unknown"
                },
                {
                  "name": "order_cnt",
                  "rawType": "int64",
                  "type": "integer"
                },
                {
                  "name": "cohort",
                  "rawType": "period[M]",
                  "type": "unknown"
                }
              ],
              "conversionMethod": "pd.DataFrame",
              "ref": "89b88bcd-7725-4e7c-a0c7-1555a203f003",
              "rows": [
                [
                  "0",
                  "12346.0",
                  "2010-01",
                  "1",
                  "2010-01"
                ],
                [
                  "1",
                  "12346.0",
                  "2010-03",
                  "1",
                  "2010-01"
                ],
                [
                  "2",
                  "12346.0",
                  "2010-06",
                  "2",
                  "2010-01"
                ],
                [
                  "3",
                  "12346.0",
                  "2010-10",
                  "1",
                  "2010-01"
                ],
                [
                  "4",
                  "12608.0",
                  "2010-10",
                  "1",
                  "2010-10"
                ],
                [
                  "5",
                  "12745.0",
                  "2010-05",
                  "1",
                  "2010-05"
                ],
                [
                  "6",
                  "12745.0",
                  "2010-08",
                  "1",
                  "2010-05"
                ],
                [
                  "7",
                  "12746.0",
                  "2010-06",
                  "2",
                  "2010-06"
                ],
                [
                  "8",
                  "12747.0",
                  "2010-02",
                  "3",
                  "2010-02"
                ],
                [
                  "9",
                  "12747.0",
                  "2010-03",
                  "2",
                  "2010-02"
                ],
                [
                  "10",
                  "12747.0",
                  "2010-04",
                  "2",
                  "2010-02"
                ],
                [
                  "11",
                  "12747.0",
                  "2010-05",
                  "1",
                  "2010-02"
                ],
                [
                  "12",
                  "12747.0",
                  "2010-06",
                  "3",
                  "2010-02"
                ],
                [
                  "13",
                  "12747.0",
                  "2010-08",
                  "2",
                  "2010-02"
                ],
                [
                  "14",
                  "12747.0",
                  "2010-10",
                  "2",
                  "2010-02"
                ],
                [
                  "15",
                  "12747.0",
                  "2010-11",
                  "2",
                  "2010-02"
                ],
                [
                  "16",
                  "12747.0",
                  "2010-12",
                  "2",
                  "2010-02"
                ],
                [
                  "17",
                  "12748.0",
                  "2010-01",
                  "6",
                  "2010-01"
                ],
                [
                  "18",
                  "12748.0",
                  "2010-02",
                  "11",
                  "2010-01"
                ],
                [
                  "19",
                  "12748.0",
                  "2010-03",
                  "9",
                  "2010-01"
                ],
                [
                  "20",
                  "12748.0",
                  "2010-04",
                  "4",
                  "2010-01"
                ],
                [
                  "21",
                  "12748.0",
                  "2010-05",
                  "8",
                  "2010-01"
                ],
                [
                  "22",
                  "12748.0",
                  "2010-06",
                  "7",
                  "2010-01"
                ],
                [
                  "23",
                  "12748.0",
                  "2010-07",
                  "10",
                  "2010-01"
                ],
                [
                  "24",
                  "12748.0",
                  "2010-08",
                  "11",
                  "2010-01"
                ],
                [
                  "25",
                  "12748.0",
                  "2010-09",
                  "12",
                  "2010-01"
                ],
                [
                  "26",
                  "12748.0",
                  "2010-10",
                  "22",
                  "2010-01"
                ],
                [
                  "27",
                  "12748.0",
                  "2010-11",
                  "26",
                  "2010-01"
                ],
                [
                  "28",
                  "12748.0",
                  "2010-12",
                  "37",
                  "2010-01"
                ],
                [
                  "29",
                  "12749.0",
                  "2010-07",
                  "3",
                  "2010-07"
                ],
                [
                  "30",
                  "12749.0",
                  "2010-10",
                  "2",
                  "2010-07"
                ],
                [
                  "31",
                  "12749.0",
                  "2010-11",
                  "3",
                  "2010-07"
                ],
                [
                  "32",
                  "12777.0",
                  "2010-09",
                  "1",
                  "2010-09"
                ],
                [
                  "33",
                  "12819.0",
                  "2010-09",
                  "1",
                  "2010-09"
                ],
                [
                  "34",
                  "12820.0",
                  "2010-01",
                  "1",
                  "2010-01"
                ],
                [
                  "35",
                  "12820.0",
                  "2010-02",
                  "1",
                  "2010-01"
                ],
                [
                  "36",
                  "12820.0",
                  "2010-05",
                  "3",
                  "2010-01"
                ],
                [
                  "37",
                  "12820.0",
                  "2010-07",
                  "1",
                  "2010-01"
                ],
                [
                  "38",
                  "12820.0",
                  "2010-10",
                  "1",
                  "2010-01"
                ],
                [
                  "39",
                  "12820.0",
                  "2010-11",
                  "1",
                  "2010-01"
                ],
                [
                  "40",
                  "12821.0",
                  "2010-04",
                  "1",
                  "2010-04"
                ],
                [
                  "41",
                  "12823.0",
                  "2010-03",
                  "1",
                  "2010-03"
                ],
                [
                  "42",
                  "12823.0",
                  "2010-06",
                  "2",
                  "2010-03"
                ],
                [
                  "43",
                  "12823.0",
                  "2010-07",
                  "1",
                  "2010-03"
                ],
                [
                  "44",
                  "12825.0",
                  "2010-03",
                  "1",
                  "2010-03"
                ],
                [
                  "45",
                  "12825.0",
                  "2010-07",
                  "1",
                  "2010-03"
                ],
                [
                  "46",
                  "12826.0",
                  "2010-01",
                  "1",
                  "2010-01"
                ],
                [
                  "47",
                  "12826.0",
                  "2010-07",
                  "1",
                  "2010-01"
                ],
                [
                  "48",
                  "12826.0",
                  "2010-08",
                  "2",
                  "2010-01"
                ],
                [
                  "49",
                  "12826.0",
                  "2010-10",
                  "2",
                  "2010-01"
                ]
              ],
              "shape": {
                "columns": 4,
                "rows": 12044
              }
            },
            "text/html": [
              "<div>\n",
              "<style scoped>\n",
              "    .dataframe tbody tr th:only-of-type {\n",
              "        vertical-align: middle;\n",
              "    }\n",
              "\n",
              "    .dataframe tbody tr th {\n",
              "        vertical-align: top;\n",
              "    }\n",
              "\n",
              "    .dataframe thead th {\n",
              "        text-align: right;\n",
              "    }\n",
              "</style>\n",
              "<table border=\"1\" class=\"dataframe\">\n",
              "  <thead>\n",
              "    <tr style=\"text-align: right;\">\n",
              "      <th></th>\n",
              "      <th>customer_id</th>\n",
              "      <th>year_month</th>\n",
              "      <th>order_cnt</th>\n",
              "      <th>cohort</th>\n",
              "    </tr>\n",
              "  </thead>\n",
              "  <tbody>\n",
              "    <tr>\n",
              "      <th>0</th>\n",
              "      <td>12346.0</td>\n",
              "      <td>2010-01</td>\n",
              "      <td>1</td>\n",
              "      <td>2010-01</td>\n",
              "    </tr>\n",
              "    <tr>\n",
              "      <th>1</th>\n",
              "      <td>12346.0</td>\n",
              "      <td>2010-03</td>\n",
              "      <td>1</td>\n",
              "      <td>2010-01</td>\n",
              "    </tr>\n",
              "    <tr>\n",
              "      <th>2</th>\n",
              "      <td>12346.0</td>\n",
              "      <td>2010-06</td>\n",
              "      <td>2</td>\n",
              "      <td>2010-01</td>\n",
              "    </tr>\n",
              "    <tr>\n",
              "      <th>3</th>\n",
              "      <td>12346.0</td>\n",
              "      <td>2010-10</td>\n",
              "      <td>1</td>\n",
              "      <td>2010-01</td>\n",
              "    </tr>\n",
              "    <tr>\n",
              "      <th>4</th>\n",
              "      <td>12608.0</td>\n",
              "      <td>2010-10</td>\n",
              "      <td>1</td>\n",
              "      <td>2010-10</td>\n",
              "    </tr>\n",
              "    <tr>\n",
              "      <th>...</th>\n",
              "      <td>...</td>\n",
              "      <td>...</td>\n",
              "      <td>...</td>\n",
              "      <td>...</td>\n",
              "    </tr>\n",
              "    <tr>\n",
              "      <th>12039</th>\n",
              "      <td>18286.0</td>\n",
              "      <td>2010-06</td>\n",
              "      <td>1</td>\n",
              "      <td>2010-06</td>\n",
              "    </tr>\n",
              "    <tr>\n",
              "      <th>12040</th>\n",
              "      <td>18286.0</td>\n",
              "      <td>2010-08</td>\n",
              "      <td>1</td>\n",
              "      <td>2010-06</td>\n",
              "    </tr>\n",
              "    <tr>\n",
              "      <th>12041</th>\n",
              "      <td>18287.0</td>\n",
              "      <td>2010-05</td>\n",
              "      <td>1</td>\n",
              "      <td>2010-05</td>\n",
              "    </tr>\n",
              "    <tr>\n",
              "      <th>12042</th>\n",
              "      <td>18287.0</td>\n",
              "      <td>2010-09</td>\n",
              "      <td>2</td>\n",
              "      <td>2010-05</td>\n",
              "    </tr>\n",
              "    <tr>\n",
              "      <th>12043</th>\n",
              "      <td>18287.0</td>\n",
              "      <td>2010-11</td>\n",
              "      <td>1</td>\n",
              "      <td>2010-05</td>\n",
              "    </tr>\n",
              "  </tbody>\n",
              "</table>\n",
              "<p>12044 rows × 4 columns</p>\n",
              "</div>"
            ],
            "text/plain": [
              "      customer_id year_month  order_cnt   cohort\n",
              "0         12346.0    2010-01          1  2010-01\n",
              "1         12346.0    2010-03          1  2010-01\n",
              "2         12346.0    2010-06          2  2010-01\n",
              "3         12346.0    2010-10          1  2010-01\n",
              "4         12608.0    2010-10          1  2010-10\n",
              "...           ...        ...        ...      ...\n",
              "12039     18286.0    2010-06          1  2010-06\n",
              "12040     18286.0    2010-08          1  2010-06\n",
              "12041     18287.0    2010-05          1  2010-05\n",
              "12042     18287.0    2010-09          2  2010-05\n",
              "12043     18287.0    2010-11          1  2010-05\n",
              "\n",
              "[12044 rows x 4 columns]"
            ]
          },
          "execution_count": 13,
          "metadata": {},
          "output_type": "execute_result"
        }
      ],
      "source": [
        "df_user_monthly['cohort'] = df_user_monthly.groupby('customer_id')['year_month'].transform('min')\n",
        "df_user_monthly"
      ]
    },
    {
      "cell_type": "markdown",
      "id": "f587ea0c-0265-4f6c-a698-b5a251e97083",
      "metadata": {
        "execution": {
          "iopub.execute_input": "2022-10-22T11:05:50.951453Z",
          "iopub.status.busy": "2022-10-22T11:05:50.951041Z",
          "iopub.status.idle": "2022-10-22T11:05:51.330749Z",
          "shell.execute_reply": "2022-10-22T11:05:51.329414Z",
          "shell.execute_reply.started": "2022-10-22T11:05:50.951413Z"
        },
        "id": "f587ea0c-0265-4f6c-a698-b5a251e97083",
        "tags": []
      },
      "source": [
        "## Hitung jarak bulan antara bulan transaksi dengan bulan pertama kali transaksi dan jumlahkan dengan 1 agar jarak bulan 0 menjadi 1 yang berarti bulan pertama, dst.\n",
        "\n",
        "Menemukan bulan berdasarkan pertama kali ia bertransaksi dan transaksi selanjutnya"
      ]
    },
    {
      "cell_type": "code",
      "execution_count": 14,
      "id": "20722b4a-fd44-4b99-a54d-35f7647b7d66",
      "metadata": {
        "colab": {
          "base_uri": "https://localhost:8080/",
          "height": 424
        },
        "execution": {
          "iopub.execute_input": "2022-10-28T07:50:24.807514Z",
          "iopub.status.busy": "2022-10-28T07:50:24.807186Z",
          "iopub.status.idle": "2022-10-28T07:50:24.888442Z",
          "shell.execute_reply": "2022-10-28T07:50:24.887603Z",
          "shell.execute_reply.started": "2022-10-28T07:50:24.807482Z"
        },
        "id": "20722b4a-fd44-4b99-a54d-35f7647b7d66",
        "outputId": "0563b357-b5e9-414c-f217-595cf06e1144",
        "tags": []
      },
      "outputs": [
        {
          "data": {
            "application/vnd.microsoft.datawrangler.viewer.v0+json": {
              "columns": [
                {
                  "name": "index",
                  "rawType": "int64",
                  "type": "integer"
                },
                {
                  "name": "customer_id",
                  "rawType": "object",
                  "type": "string"
                },
                {
                  "name": "year_month",
                  "rawType": "period[M]",
                  "type": "unknown"
                },
                {
                  "name": "order_cnt",
                  "rawType": "int64",
                  "type": "integer"
                },
                {
                  "name": "cohort",
                  "rawType": "period[M]",
                  "type": "unknown"
                },
                {
                  "name": "period_num",
                  "rawType": "int64",
                  "type": "integer"
                }
              ],
              "conversionMethod": "pd.DataFrame",
              "ref": "194664cd-9903-4a43-bd9c-88e78fd7aab3",
              "rows": [
                [
                  "0",
                  "12346.0",
                  "2010-01",
                  "1",
                  "2010-01",
                  "1"
                ],
                [
                  "1",
                  "12346.0",
                  "2010-03",
                  "1",
                  "2010-01",
                  "3"
                ],
                [
                  "2",
                  "12346.0",
                  "2010-06",
                  "2",
                  "2010-01",
                  "6"
                ],
                [
                  "3",
                  "12346.0",
                  "2010-10",
                  "1",
                  "2010-01",
                  "10"
                ],
                [
                  "4",
                  "12608.0",
                  "2010-10",
                  "1",
                  "2010-10",
                  "1"
                ],
                [
                  "5",
                  "12745.0",
                  "2010-05",
                  "1",
                  "2010-05",
                  "1"
                ],
                [
                  "6",
                  "12745.0",
                  "2010-08",
                  "1",
                  "2010-05",
                  "4"
                ],
                [
                  "7",
                  "12746.0",
                  "2010-06",
                  "2",
                  "2010-06",
                  "1"
                ],
                [
                  "8",
                  "12747.0",
                  "2010-02",
                  "3",
                  "2010-02",
                  "1"
                ],
                [
                  "9",
                  "12747.0",
                  "2010-03",
                  "2",
                  "2010-02",
                  "2"
                ],
                [
                  "10",
                  "12747.0",
                  "2010-04",
                  "2",
                  "2010-02",
                  "3"
                ],
                [
                  "11",
                  "12747.0",
                  "2010-05",
                  "1",
                  "2010-02",
                  "4"
                ],
                [
                  "12",
                  "12747.0",
                  "2010-06",
                  "3",
                  "2010-02",
                  "5"
                ],
                [
                  "13",
                  "12747.0",
                  "2010-08",
                  "2",
                  "2010-02",
                  "7"
                ],
                [
                  "14",
                  "12747.0",
                  "2010-10",
                  "2",
                  "2010-02",
                  "9"
                ],
                [
                  "15",
                  "12747.0",
                  "2010-11",
                  "2",
                  "2010-02",
                  "10"
                ],
                [
                  "16",
                  "12747.0",
                  "2010-12",
                  "2",
                  "2010-02",
                  "11"
                ],
                [
                  "17",
                  "12748.0",
                  "2010-01",
                  "6",
                  "2010-01",
                  "1"
                ],
                [
                  "18",
                  "12748.0",
                  "2010-02",
                  "11",
                  "2010-01",
                  "2"
                ],
                [
                  "19",
                  "12748.0",
                  "2010-03",
                  "9",
                  "2010-01",
                  "3"
                ],
                [
                  "20",
                  "12748.0",
                  "2010-04",
                  "4",
                  "2010-01",
                  "4"
                ],
                [
                  "21",
                  "12748.0",
                  "2010-05",
                  "8",
                  "2010-01",
                  "5"
                ],
                [
                  "22",
                  "12748.0",
                  "2010-06",
                  "7",
                  "2010-01",
                  "6"
                ],
                [
                  "23",
                  "12748.0",
                  "2010-07",
                  "10",
                  "2010-01",
                  "7"
                ],
                [
                  "24",
                  "12748.0",
                  "2010-08",
                  "11",
                  "2010-01",
                  "8"
                ],
                [
                  "25",
                  "12748.0",
                  "2010-09",
                  "12",
                  "2010-01",
                  "9"
                ],
                [
                  "26",
                  "12748.0",
                  "2010-10",
                  "22",
                  "2010-01",
                  "10"
                ],
                [
                  "27",
                  "12748.0",
                  "2010-11",
                  "26",
                  "2010-01",
                  "11"
                ],
                [
                  "28",
                  "12748.0",
                  "2010-12",
                  "37",
                  "2010-01",
                  "12"
                ],
                [
                  "29",
                  "12749.0",
                  "2010-07",
                  "3",
                  "2010-07",
                  "1"
                ],
                [
                  "30",
                  "12749.0",
                  "2010-10",
                  "2",
                  "2010-07",
                  "4"
                ],
                [
                  "31",
                  "12749.0",
                  "2010-11",
                  "3",
                  "2010-07",
                  "5"
                ],
                [
                  "32",
                  "12777.0",
                  "2010-09",
                  "1",
                  "2010-09",
                  "1"
                ],
                [
                  "33",
                  "12819.0",
                  "2010-09",
                  "1",
                  "2010-09",
                  "1"
                ],
                [
                  "34",
                  "12820.0",
                  "2010-01",
                  "1",
                  "2010-01",
                  "1"
                ],
                [
                  "35",
                  "12820.0",
                  "2010-02",
                  "1",
                  "2010-01",
                  "2"
                ],
                [
                  "36",
                  "12820.0",
                  "2010-05",
                  "3",
                  "2010-01",
                  "5"
                ],
                [
                  "37",
                  "12820.0",
                  "2010-07",
                  "1",
                  "2010-01",
                  "7"
                ],
                [
                  "38",
                  "12820.0",
                  "2010-10",
                  "1",
                  "2010-01",
                  "10"
                ],
                [
                  "39",
                  "12820.0",
                  "2010-11",
                  "1",
                  "2010-01",
                  "11"
                ],
                [
                  "40",
                  "12821.0",
                  "2010-04",
                  "1",
                  "2010-04",
                  "1"
                ],
                [
                  "41",
                  "12823.0",
                  "2010-03",
                  "1",
                  "2010-03",
                  "1"
                ],
                [
                  "42",
                  "12823.0",
                  "2010-06",
                  "2",
                  "2010-03",
                  "4"
                ],
                [
                  "43",
                  "12823.0",
                  "2010-07",
                  "1",
                  "2010-03",
                  "5"
                ],
                [
                  "44",
                  "12825.0",
                  "2010-03",
                  "1",
                  "2010-03",
                  "1"
                ],
                [
                  "45",
                  "12825.0",
                  "2010-07",
                  "1",
                  "2010-03",
                  "5"
                ],
                [
                  "46",
                  "12826.0",
                  "2010-01",
                  "1",
                  "2010-01",
                  "1"
                ],
                [
                  "47",
                  "12826.0",
                  "2010-07",
                  "1",
                  "2010-01",
                  "7"
                ],
                [
                  "48",
                  "12826.0",
                  "2010-08",
                  "2",
                  "2010-01",
                  "8"
                ],
                [
                  "49",
                  "12826.0",
                  "2010-10",
                  "2",
                  "2010-01",
                  "10"
                ]
              ],
              "shape": {
                "columns": 5,
                "rows": 12044
              }
            },
            "text/html": [
              "<div>\n",
              "<style scoped>\n",
              "    .dataframe tbody tr th:only-of-type {\n",
              "        vertical-align: middle;\n",
              "    }\n",
              "\n",
              "    .dataframe tbody tr th {\n",
              "        vertical-align: top;\n",
              "    }\n",
              "\n",
              "    .dataframe thead th {\n",
              "        text-align: right;\n",
              "    }\n",
              "</style>\n",
              "<table border=\"1\" class=\"dataframe\">\n",
              "  <thead>\n",
              "    <tr style=\"text-align: right;\">\n",
              "      <th></th>\n",
              "      <th>customer_id</th>\n",
              "      <th>year_month</th>\n",
              "      <th>order_cnt</th>\n",
              "      <th>cohort</th>\n",
              "      <th>period_num</th>\n",
              "    </tr>\n",
              "  </thead>\n",
              "  <tbody>\n",
              "    <tr>\n",
              "      <th>0</th>\n",
              "      <td>12346.0</td>\n",
              "      <td>2010-01</td>\n",
              "      <td>1</td>\n",
              "      <td>2010-01</td>\n",
              "      <td>1</td>\n",
              "    </tr>\n",
              "    <tr>\n",
              "      <th>1</th>\n",
              "      <td>12346.0</td>\n",
              "      <td>2010-03</td>\n",
              "      <td>1</td>\n",
              "      <td>2010-01</td>\n",
              "      <td>3</td>\n",
              "    </tr>\n",
              "    <tr>\n",
              "      <th>2</th>\n",
              "      <td>12346.0</td>\n",
              "      <td>2010-06</td>\n",
              "      <td>2</td>\n",
              "      <td>2010-01</td>\n",
              "      <td>6</td>\n",
              "    </tr>\n",
              "    <tr>\n",
              "      <th>3</th>\n",
              "      <td>12346.0</td>\n",
              "      <td>2010-10</td>\n",
              "      <td>1</td>\n",
              "      <td>2010-01</td>\n",
              "      <td>10</td>\n",
              "    </tr>\n",
              "    <tr>\n",
              "      <th>4</th>\n",
              "      <td>12608.0</td>\n",
              "      <td>2010-10</td>\n",
              "      <td>1</td>\n",
              "      <td>2010-10</td>\n",
              "      <td>1</td>\n",
              "    </tr>\n",
              "    <tr>\n",
              "      <th>...</th>\n",
              "      <td>...</td>\n",
              "      <td>...</td>\n",
              "      <td>...</td>\n",
              "      <td>...</td>\n",
              "      <td>...</td>\n",
              "    </tr>\n",
              "    <tr>\n",
              "      <th>12039</th>\n",
              "      <td>18286.0</td>\n",
              "      <td>2010-06</td>\n",
              "      <td>1</td>\n",
              "      <td>2010-06</td>\n",
              "      <td>1</td>\n",
              "    </tr>\n",
              "    <tr>\n",
              "      <th>12040</th>\n",
              "      <td>18286.0</td>\n",
              "      <td>2010-08</td>\n",
              "      <td>1</td>\n",
              "      <td>2010-06</td>\n",
              "      <td>3</td>\n",
              "    </tr>\n",
              "    <tr>\n",
              "      <th>12041</th>\n",
              "      <td>18287.0</td>\n",
              "      <td>2010-05</td>\n",
              "      <td>1</td>\n",
              "      <td>2010-05</td>\n",
              "      <td>1</td>\n",
              "    </tr>\n",
              "    <tr>\n",
              "      <th>12042</th>\n",
              "      <td>18287.0</td>\n",
              "      <td>2010-09</td>\n",
              "      <td>2</td>\n",
              "      <td>2010-05</td>\n",
              "      <td>5</td>\n",
              "    </tr>\n",
              "    <tr>\n",
              "      <th>12043</th>\n",
              "      <td>18287.0</td>\n",
              "      <td>2010-11</td>\n",
              "      <td>1</td>\n",
              "      <td>2010-05</td>\n",
              "      <td>7</td>\n",
              "    </tr>\n",
              "  </tbody>\n",
              "</table>\n",
              "<p>12044 rows × 5 columns</p>\n",
              "</div>"
            ],
            "text/plain": [
              "      customer_id year_month  order_cnt   cohort  period_num\n",
              "0         12346.0    2010-01          1  2010-01           1\n",
              "1         12346.0    2010-03          1  2010-01           3\n",
              "2         12346.0    2010-06          2  2010-01           6\n",
              "3         12346.0    2010-10          1  2010-01          10\n",
              "4         12608.0    2010-10          1  2010-10           1\n",
              "...           ...        ...        ...      ...         ...\n",
              "12039     18286.0    2010-06          1  2010-06           1\n",
              "12040     18286.0    2010-08          1  2010-06           3\n",
              "12041     18287.0    2010-05          1  2010-05           1\n",
              "12042     18287.0    2010-09          2  2010-05           5\n",
              "12043     18287.0    2010-11          1  2010-05           7\n",
              "\n",
              "[12044 rows x 5 columns]"
            ]
          },
          "execution_count": 14,
          "metadata": {},
          "output_type": "execute_result"
        }
      ],
      "source": [
        "from operator import attrgetter\n",
        "# jumlahkan dengan 1 agar jarak bulan 0 menjadi 1 yang berarti bulan pertama, dst.\n",
        "df_user_monthly['period_num'] = (df_user_monthly['year_month'] - df_user_monthly['cohort']).apply(attrgetter('n')) + 1\n",
        "df_user_monthly"
      ]
    },
    {
      "cell_type": "markdown",
      "id": "44faafe4-99bd-4d44-afaf-dfb2a000abcf",
      "metadata": {
        "id": "44faafe4-99bd-4d44-afaf-dfb2a000abcf"
      },
      "source": [
        "## Tabel pivot dengan index berupa cohort, kolom berupa jarak bulan, dan nilainya adalah banyaknya pengguna unik (count unique dari ID User)\n",
        "\n",
        "Mencari tahu orang yang bertransaksi di bulan januari kemudian bertransaksi lagi di bulan Februari tuh berapa orang, mencari yang transaksi di bulan januari dan kembali transaksi di bulan Maret berapa, dst."
      ]
    },
    {
      "cell_type": "code",
      "execution_count": 15,
      "id": "7510599b-d0cb-4896-a9d3-3524fad18abd",
      "metadata": {
        "colab": {
          "base_uri": "https://localhost:8080/",
          "height": 457
        },
        "execution": {
          "iopub.execute_input": "2022-10-28T07:54:12.975235Z",
          "iopub.status.busy": "2022-10-28T07:54:12.974977Z",
          "iopub.status.idle": "2022-10-28T07:54:13.074230Z",
          "shell.execute_reply": "2022-10-28T07:54:13.073296Z",
          "shell.execute_reply.started": "2022-10-28T07:54:12.975213Z"
        },
        "id": "7510599b-d0cb-4896-a9d3-3524fad18abd",
        "outputId": "dd8550b4-a97e-4621-c160-f41ac33bc2ed",
        "tags": []
      },
      "outputs": [
        {
          "data": {
            "application/vnd.microsoft.datawrangler.viewer.v0+json": {
              "columns": [
                {
                  "name": "cohort",
                  "rawType": "period[M]",
                  "type": "unknown"
                },
                {
                  "name": "1",
                  "rawType": "float64",
                  "type": "float"
                },
                {
                  "name": "2",
                  "rawType": "float64",
                  "type": "float"
                },
                {
                  "name": "3",
                  "rawType": "float64",
                  "type": "float"
                },
                {
                  "name": "4",
                  "rawType": "float64",
                  "type": "float"
                },
                {
                  "name": "5",
                  "rawType": "float64",
                  "type": "float"
                },
                {
                  "name": "6",
                  "rawType": "float64",
                  "type": "float"
                },
                {
                  "name": "7",
                  "rawType": "float64",
                  "type": "float"
                },
                {
                  "name": "8",
                  "rawType": "float64",
                  "type": "float"
                },
                {
                  "name": "9",
                  "rawType": "float64",
                  "type": "float"
                },
                {
                  "name": "10",
                  "rawType": "float64",
                  "type": "float"
                },
                {
                  "name": "11",
                  "rawType": "float64",
                  "type": "float"
                },
                {
                  "name": "12",
                  "rawType": "float64",
                  "type": "float"
                }
              ],
              "conversionMethod": "pd.DataFrame",
              "ref": "b3da136f-b545-4c46-aed4-f806514543e6",
              "rows": [
                [
                  "2010-01",
                  "713.0",
                  "280.0",
                  "334.0",
                  "313.0",
                  "305.0",
                  "304.0",
                  "293.0",
                  "268.0",
                  "285.0",
                  "319.0",
                  "335.0",
                  "249.0"
                ],
                [
                  "2010-02",
                  "461.0",
                  "154.0",
                  "128.0",
                  "161.0",
                  "152.0",
                  "121.0",
                  "119.0",
                  "159.0",
                  "153.0",
                  "166.0",
                  "100.0",
                  null
                ],
                [
                  "2010-03",
                  "528.0",
                  "146.0",
                  "158.0",
                  "145.0",
                  "140.0",
                  "123.0",
                  "149.0",
                  "186.0",
                  "193.0",
                  "96.0",
                  null,
                  null
                ],
                [
                  "2010-04",
                  "326.0",
                  "82.0",
                  "75.0",
                  "63.0",
                  "69.0",
                  "79.0",
                  "98.0",
                  "101.0",
                  "50.0",
                  null,
                  null,
                  null
                ],
                [
                  "2010-05",
                  "274.0",
                  "55.0",
                  "50.0",
                  "52.0",
                  "52.0",
                  "72.0",
                  "67.0",
                  "43.0",
                  null,
                  null,
                  null,
                  null
                ],
                [
                  "2010-06",
                  "266.0",
                  "53.0",
                  "56.0",
                  "60.0",
                  "65.0",
                  "85.0",
                  "39.0",
                  null,
                  null,
                  null,
                  null,
                  null
                ],
                [
                  "2010-07",
                  "179.0",
                  "38.0",
                  "37.0",
                  "52.0",
                  "53.0",
                  "30.0",
                  null,
                  null,
                  null,
                  null,
                  null,
                  null
                ],
                [
                  "2010-08",
                  "160.0",
                  "35.0",
                  "50.0",
                  "48.0",
                  "27.0",
                  null,
                  null,
                  null,
                  null,
                  null,
                  null,
                  null
                ],
                [
                  "2010-09",
                  "227.0",
                  "64.0",
                  "60.0",
                  "31.0",
                  null,
                  null,
                  null,
                  null,
                  null,
                  null,
                  null,
                  null
                ],
                [
                  "2010-10",
                  "362.0",
                  "103.0",
                  "61.0",
                  null,
                  null,
                  null,
                  null,
                  null,
                  null,
                  null,
                  null,
                  null
                ],
                [
                  "2010-11",
                  "327.0",
                  "66.0",
                  null,
                  null,
                  null,
                  null,
                  null,
                  null,
                  null,
                  null,
                  null,
                  null
                ],
                [
                  "2010-12",
                  "66.0",
                  null,
                  null,
                  null,
                  null,
                  null,
                  null,
                  null,
                  null,
                  null,
                  null,
                  null
                ]
              ],
              "shape": {
                "columns": 12,
                "rows": 12
              }
            },
            "text/html": [
              "<div>\n",
              "<style scoped>\n",
              "    .dataframe tbody tr th:only-of-type {\n",
              "        vertical-align: middle;\n",
              "    }\n",
              "\n",
              "    .dataframe tbody tr th {\n",
              "        vertical-align: top;\n",
              "    }\n",
              "\n",
              "    .dataframe thead th {\n",
              "        text-align: right;\n",
              "    }\n",
              "</style>\n",
              "<table border=\"1\" class=\"dataframe\">\n",
              "  <thead>\n",
              "    <tr style=\"text-align: right;\">\n",
              "      <th>period_num</th>\n",
              "      <th>1</th>\n",
              "      <th>2</th>\n",
              "      <th>3</th>\n",
              "      <th>4</th>\n",
              "      <th>5</th>\n",
              "      <th>6</th>\n",
              "      <th>7</th>\n",
              "      <th>8</th>\n",
              "      <th>9</th>\n",
              "      <th>10</th>\n",
              "      <th>11</th>\n",
              "      <th>12</th>\n",
              "    </tr>\n",
              "    <tr>\n",
              "      <th>cohort</th>\n",
              "      <th></th>\n",
              "      <th></th>\n",
              "      <th></th>\n",
              "      <th></th>\n",
              "      <th></th>\n",
              "      <th></th>\n",
              "      <th></th>\n",
              "      <th></th>\n",
              "      <th></th>\n",
              "      <th></th>\n",
              "      <th></th>\n",
              "      <th></th>\n",
              "    </tr>\n",
              "  </thead>\n",
              "  <tbody>\n",
              "    <tr>\n",
              "      <th>2010-01</th>\n",
              "      <td>713.0</td>\n",
              "      <td>280.0</td>\n",
              "      <td>334.0</td>\n",
              "      <td>313.0</td>\n",
              "      <td>305.0</td>\n",
              "      <td>304.0</td>\n",
              "      <td>293.0</td>\n",
              "      <td>268.0</td>\n",
              "      <td>285.0</td>\n",
              "      <td>319.0</td>\n",
              "      <td>335.0</td>\n",
              "      <td>249.0</td>\n",
              "    </tr>\n",
              "    <tr>\n",
              "      <th>2010-02</th>\n",
              "      <td>461.0</td>\n",
              "      <td>154.0</td>\n",
              "      <td>128.0</td>\n",
              "      <td>161.0</td>\n",
              "      <td>152.0</td>\n",
              "      <td>121.0</td>\n",
              "      <td>119.0</td>\n",
              "      <td>159.0</td>\n",
              "      <td>153.0</td>\n",
              "      <td>166.0</td>\n",
              "      <td>100.0</td>\n",
              "      <td>NaN</td>\n",
              "    </tr>\n",
              "    <tr>\n",
              "      <th>2010-03</th>\n",
              "      <td>528.0</td>\n",
              "      <td>146.0</td>\n",
              "      <td>158.0</td>\n",
              "      <td>145.0</td>\n",
              "      <td>140.0</td>\n",
              "      <td>123.0</td>\n",
              "      <td>149.0</td>\n",
              "      <td>186.0</td>\n",
              "      <td>193.0</td>\n",
              "      <td>96.0</td>\n",
              "      <td>NaN</td>\n",
              "      <td>NaN</td>\n",
              "    </tr>\n",
              "    <tr>\n",
              "      <th>2010-04</th>\n",
              "      <td>326.0</td>\n",
              "      <td>82.0</td>\n",
              "      <td>75.0</td>\n",
              "      <td>63.0</td>\n",
              "      <td>69.0</td>\n",
              "      <td>79.0</td>\n",
              "      <td>98.0</td>\n",
              "      <td>101.0</td>\n",
              "      <td>50.0</td>\n",
              "      <td>NaN</td>\n",
              "      <td>NaN</td>\n",
              "      <td>NaN</td>\n",
              "    </tr>\n",
              "    <tr>\n",
              "      <th>2010-05</th>\n",
              "      <td>274.0</td>\n",
              "      <td>55.0</td>\n",
              "      <td>50.0</td>\n",
              "      <td>52.0</td>\n",
              "      <td>52.0</td>\n",
              "      <td>72.0</td>\n",
              "      <td>67.0</td>\n",
              "      <td>43.0</td>\n",
              "      <td>NaN</td>\n",
              "      <td>NaN</td>\n",
              "      <td>NaN</td>\n",
              "      <td>NaN</td>\n",
              "    </tr>\n",
              "    <tr>\n",
              "      <th>2010-06</th>\n",
              "      <td>266.0</td>\n",
              "      <td>53.0</td>\n",
              "      <td>56.0</td>\n",
              "      <td>60.0</td>\n",
              "      <td>65.0</td>\n",
              "      <td>85.0</td>\n",
              "      <td>39.0</td>\n",
              "      <td>NaN</td>\n",
              "      <td>NaN</td>\n",
              "      <td>NaN</td>\n",
              "      <td>NaN</td>\n",
              "      <td>NaN</td>\n",
              "    </tr>\n",
              "    <tr>\n",
              "      <th>2010-07</th>\n",
              "      <td>179.0</td>\n",
              "      <td>38.0</td>\n",
              "      <td>37.0</td>\n",
              "      <td>52.0</td>\n",
              "      <td>53.0</td>\n",
              "      <td>30.0</td>\n",
              "      <td>NaN</td>\n",
              "      <td>NaN</td>\n",
              "      <td>NaN</td>\n",
              "      <td>NaN</td>\n",
              "      <td>NaN</td>\n",
              "      <td>NaN</td>\n",
              "    </tr>\n",
              "    <tr>\n",
              "      <th>2010-08</th>\n",
              "      <td>160.0</td>\n",
              "      <td>35.0</td>\n",
              "      <td>50.0</td>\n",
              "      <td>48.0</td>\n",
              "      <td>27.0</td>\n",
              "      <td>NaN</td>\n",
              "      <td>NaN</td>\n",
              "      <td>NaN</td>\n",
              "      <td>NaN</td>\n",
              "      <td>NaN</td>\n",
              "      <td>NaN</td>\n",
              "      <td>NaN</td>\n",
              "    </tr>\n",
              "    <tr>\n",
              "      <th>2010-09</th>\n",
              "      <td>227.0</td>\n",
              "      <td>64.0</td>\n",
              "      <td>60.0</td>\n",
              "      <td>31.0</td>\n",
              "      <td>NaN</td>\n",
              "      <td>NaN</td>\n",
              "      <td>NaN</td>\n",
              "      <td>NaN</td>\n",
              "      <td>NaN</td>\n",
              "      <td>NaN</td>\n",
              "      <td>NaN</td>\n",
              "      <td>NaN</td>\n",
              "    </tr>\n",
              "    <tr>\n",
              "      <th>2010-10</th>\n",
              "      <td>362.0</td>\n",
              "      <td>103.0</td>\n",
              "      <td>61.0</td>\n",
              "      <td>NaN</td>\n",
              "      <td>NaN</td>\n",
              "      <td>NaN</td>\n",
              "      <td>NaN</td>\n",
              "      <td>NaN</td>\n",
              "      <td>NaN</td>\n",
              "      <td>NaN</td>\n",
              "      <td>NaN</td>\n",
              "      <td>NaN</td>\n",
              "    </tr>\n",
              "    <tr>\n",
              "      <th>2010-11</th>\n",
              "      <td>327.0</td>\n",
              "      <td>66.0</td>\n",
              "      <td>NaN</td>\n",
              "      <td>NaN</td>\n",
              "      <td>NaN</td>\n",
              "      <td>NaN</td>\n",
              "      <td>NaN</td>\n",
              "      <td>NaN</td>\n",
              "      <td>NaN</td>\n",
              "      <td>NaN</td>\n",
              "      <td>NaN</td>\n",
              "      <td>NaN</td>\n",
              "    </tr>\n",
              "    <tr>\n",
              "      <th>2010-12</th>\n",
              "      <td>66.0</td>\n",
              "      <td>NaN</td>\n",
              "      <td>NaN</td>\n",
              "      <td>NaN</td>\n",
              "      <td>NaN</td>\n",
              "      <td>NaN</td>\n",
              "      <td>NaN</td>\n",
              "      <td>NaN</td>\n",
              "      <td>NaN</td>\n",
              "      <td>NaN</td>\n",
              "      <td>NaN</td>\n",
              "      <td>NaN</td>\n",
              "    </tr>\n",
              "  </tbody>\n",
              "</table>\n",
              "</div>"
            ],
            "text/plain": [
              "period_num     1      2      3      4      5      6      7      8      9   \\\n",
              "cohort                                                                      \n",
              "2010-01     713.0  280.0  334.0  313.0  305.0  304.0  293.0  268.0  285.0   \n",
              "2010-02     461.0  154.0  128.0  161.0  152.0  121.0  119.0  159.0  153.0   \n",
              "2010-03     528.0  146.0  158.0  145.0  140.0  123.0  149.0  186.0  193.0   \n",
              "2010-04     326.0   82.0   75.0   63.0   69.0   79.0   98.0  101.0   50.0   \n",
              "2010-05     274.0   55.0   50.0   52.0   52.0   72.0   67.0   43.0    NaN   \n",
              "2010-06     266.0   53.0   56.0   60.0   65.0   85.0   39.0    NaN    NaN   \n",
              "2010-07     179.0   38.0   37.0   52.0   53.0   30.0    NaN    NaN    NaN   \n",
              "2010-08     160.0   35.0   50.0   48.0   27.0    NaN    NaN    NaN    NaN   \n",
              "2010-09     227.0   64.0   60.0   31.0    NaN    NaN    NaN    NaN    NaN   \n",
              "2010-10     362.0  103.0   61.0    NaN    NaN    NaN    NaN    NaN    NaN   \n",
              "2010-11     327.0   66.0    NaN    NaN    NaN    NaN    NaN    NaN    NaN   \n",
              "2010-12      66.0    NaN    NaN    NaN    NaN    NaN    NaN    NaN    NaN   \n",
              "\n",
              "period_num     10     11     12  \n",
              "cohort                           \n",
              "2010-01     319.0  335.0  249.0  \n",
              "2010-02     166.0  100.0    NaN  \n",
              "2010-03      96.0    NaN    NaN  \n",
              "2010-04       NaN    NaN    NaN  \n",
              "2010-05       NaN    NaN    NaN  \n",
              "2010-06       NaN    NaN    NaN  \n",
              "2010-07       NaN    NaN    NaN  \n",
              "2010-08       NaN    NaN    NaN  \n",
              "2010-09       NaN    NaN    NaN  \n",
              "2010-10       NaN    NaN    NaN  \n",
              "2010-11       NaN    NaN    NaN  \n",
              "2010-12       NaN    NaN    NaN  "
            ]
          },
          "execution_count": 15,
          "metadata": {},
          "output_type": "execute_result"
        }
      ],
      "source": [
        "#Tabel pivot dengan index berupa cohort, kolom berupa jarak bulan, dan nilainya adalah banyaknya pengguna unik (count unique dari ID pengguna)\n",
        "df_cohort_pivot = pd.pivot_table(df_user_monthly, index='cohort', columns='period_num', values='customer_id', aggfunc=pd.Series.nunique)\n",
        "df_cohort_pivot"
      ]
    },
    {
      "cell_type": "markdown",
      "id": "1d31cac8-d1dc-4cd6-b49b-c42c086fd1f5",
      "metadata": {
        "id": "1d31cac8-d1dc-4cd6-b49b-c42c086fd1f5",
        "tags": []
      },
      "source": [
        "## Hitung banyaknya pengguna di masing-masing cohort (pengguna yang pertama kali transaksi di bulan tersebut) dan bagi semua nilai di tabel pivot tadi dengan nilai tersebut sebagai retention rate"
      ]
    },
    {
      "cell_type": "code",
      "execution_count": 16,
      "id": "39640a0f-615c-4db3-b277-fde8cec874ad",
      "metadata": {
        "colab": {
          "base_uri": "https://localhost:8080/"
        },
        "execution": {
          "iopub.execute_input": "2022-10-28T08:00:23.129982Z",
          "iopub.status.busy": "2022-10-28T08:00:23.129453Z",
          "iopub.status.idle": "2022-10-28T08:00:23.156568Z",
          "shell.execute_reply": "2022-10-28T08:00:23.155753Z",
          "shell.execute_reply.started": "2022-10-28T08:00:23.129944Z"
        },
        "id": "39640a0f-615c-4db3-b277-fde8cec874ad",
        "outputId": "ac019067-9daf-41e5-8b6e-185bcda1159b",
        "tags": []
      },
      "outputs": [
        {
          "data": {
            "text/plain": [
              "cohort\n",
              "2010-01    713.0\n",
              "2010-02    461.0\n",
              "2010-03    528.0\n",
              "2010-04    326.0\n",
              "2010-05    274.0\n",
              "2010-06    266.0\n",
              "2010-07    179.0\n",
              "2010-08    160.0\n",
              "2010-09    227.0\n",
              "2010-10    362.0\n",
              "2010-11    327.0\n",
              "2010-12     66.0\n",
              "Freq: M, Name: 1, dtype: float64"
            ]
          },
          "execution_count": 16,
          "metadata": {},
          "output_type": "execute_result"
        }
      ],
      "source": [
        "cohort_size = df_cohort_pivot.iloc[:, 0]\n",
        "cohort_size"
      ]
    },
    {
      "cell_type": "code",
      "execution_count": 17,
      "id": "6cd56761-b9cc-4e79-a0e1-0b6ff7427ae6",
      "metadata": {
        "colab": {
          "base_uri": "https://localhost:8080/",
          "height": 477
        },
        "execution": {
          "iopub.execute_input": "2022-10-28T08:00:29.098379Z",
          "iopub.status.busy": "2022-10-28T08:00:29.098042Z",
          "iopub.status.idle": "2022-10-28T08:00:29.149724Z",
          "shell.execute_reply": "2022-10-28T08:00:29.148594Z",
          "shell.execute_reply.started": "2022-10-28T08:00:29.098348Z"
        },
        "id": "6cd56761-b9cc-4e79-a0e1-0b6ff7427ae6",
        "outputId": "91533954-73b5-4385-a69f-318eb44b4af3"
      },
      "outputs": [
        {
          "data": {
            "application/vnd.microsoft.datawrangler.viewer.v0+json": {
              "columns": [
                {
                  "name": "cohort",
                  "rawType": "period[M]",
                  "type": "unknown"
                },
                {
                  "name": "1",
                  "rawType": "float64",
                  "type": "float"
                },
                {
                  "name": "2",
                  "rawType": "float64",
                  "type": "float"
                },
                {
                  "name": "3",
                  "rawType": "float64",
                  "type": "float"
                },
                {
                  "name": "4",
                  "rawType": "float64",
                  "type": "float"
                },
                {
                  "name": "5",
                  "rawType": "float64",
                  "type": "float"
                },
                {
                  "name": "6",
                  "rawType": "float64",
                  "type": "float"
                },
                {
                  "name": "7",
                  "rawType": "float64",
                  "type": "float"
                },
                {
                  "name": "8",
                  "rawType": "float64",
                  "type": "float"
                },
                {
                  "name": "9",
                  "rawType": "float64",
                  "type": "float"
                },
                {
                  "name": "10",
                  "rawType": "float64",
                  "type": "float"
                },
                {
                  "name": "11",
                  "rawType": "float64",
                  "type": "float"
                },
                {
                  "name": "12",
                  "rawType": "float64",
                  "type": "float"
                }
              ],
              "conversionMethod": "pd.DataFrame",
              "ref": "44363bc0-7716-4759-9fb4-5bd2175aaebe",
              "rows": [
                [
                  "2010-01",
                  "1.0",
                  "0.39270687237026647",
                  "0.4684431977559607",
                  "0.43899018232819076",
                  "0.4277699859747546",
                  "0.426367461430575",
                  "0.4109396914446003",
                  "0.3758765778401122",
                  "0.3997194950911641",
                  "0.4474053295932679",
                  "0.46984572230014027",
                  "0.3492286115007013"
                ],
                [
                  "2010-02",
                  "1.0",
                  "0.33405639913232105",
                  "0.27765726681127983",
                  "0.3492407809110629",
                  "0.3297180043383948",
                  "0.26247288503253796",
                  "0.25813449023861174",
                  "0.34490238611713664",
                  "0.3318872017353579",
                  "0.3600867678958785",
                  "0.21691973969631237",
                  null
                ],
                [
                  "2010-03",
                  "1.0",
                  "0.2765151515151515",
                  "0.29924242424242425",
                  "0.2746212121212121",
                  "0.26515151515151514",
                  "0.23295454545454544",
                  "0.2821969696969697",
                  "0.3522727272727273",
                  "0.36553030303030304",
                  "0.18181818181818182",
                  null,
                  null
                ],
                [
                  "2010-04",
                  "1.0",
                  "0.25153374233128833",
                  "0.23006134969325154",
                  "0.19325153374233128",
                  "0.2116564417177914",
                  "0.24233128834355827",
                  "0.3006134969325153",
                  "0.3098159509202454",
                  "0.15337423312883436",
                  null,
                  null,
                  null
                ],
                [
                  "2010-05",
                  "1.0",
                  "0.20072992700729927",
                  "0.18248175182481752",
                  "0.1897810218978102",
                  "0.1897810218978102",
                  "0.26277372262773724",
                  "0.24452554744525548",
                  "0.15693430656934307",
                  null,
                  null,
                  null,
                  null
                ],
                [
                  "2010-06",
                  "1.0",
                  "0.19924812030075187",
                  "0.21052631578947367",
                  "0.22556390977443608",
                  "0.24436090225563908",
                  "0.31954887218045114",
                  "0.14661654135338345",
                  null,
                  null,
                  null,
                  null,
                  null
                ],
                [
                  "2010-07",
                  "1.0",
                  "0.2122905027932961",
                  "0.20670391061452514",
                  "0.2905027932960894",
                  "0.29608938547486036",
                  "0.16759776536312848",
                  null,
                  null,
                  null,
                  null,
                  null,
                  null
                ],
                [
                  "2010-08",
                  "1.0",
                  "0.21875",
                  "0.3125",
                  "0.3",
                  "0.16875",
                  null,
                  null,
                  null,
                  null,
                  null,
                  null,
                  null
                ],
                [
                  "2010-09",
                  "1.0",
                  "0.28193832599118945",
                  "0.2643171806167401",
                  "0.13656387665198239",
                  null,
                  null,
                  null,
                  null,
                  null,
                  null,
                  null,
                  null
                ],
                [
                  "2010-10",
                  "1.0",
                  "0.2845303867403315",
                  "0.1685082872928177",
                  null,
                  null,
                  null,
                  null,
                  null,
                  null,
                  null,
                  null,
                  null
                ],
                [
                  "2010-11",
                  "1.0",
                  "0.2018348623853211",
                  null,
                  null,
                  null,
                  null,
                  null,
                  null,
                  null,
                  null,
                  null,
                  null
                ],
                [
                  "2010-12",
                  "1.0",
                  null,
                  null,
                  null,
                  null,
                  null,
                  null,
                  null,
                  null,
                  null,
                  null,
                  null
                ]
              ],
              "shape": {
                "columns": 12,
                "rows": 12
              }
            },
            "text/html": [
              "<div>\n",
              "<style scoped>\n",
              "    .dataframe tbody tr th:only-of-type {\n",
              "        vertical-align: middle;\n",
              "    }\n",
              "\n",
              "    .dataframe tbody tr th {\n",
              "        vertical-align: top;\n",
              "    }\n",
              "\n",
              "    .dataframe thead th {\n",
              "        text-align: right;\n",
              "    }\n",
              "</style>\n",
              "<table border=\"1\" class=\"dataframe\">\n",
              "  <thead>\n",
              "    <tr style=\"text-align: right;\">\n",
              "      <th>period_num</th>\n",
              "      <th>1</th>\n",
              "      <th>2</th>\n",
              "      <th>3</th>\n",
              "      <th>4</th>\n",
              "      <th>5</th>\n",
              "      <th>6</th>\n",
              "      <th>7</th>\n",
              "      <th>8</th>\n",
              "      <th>9</th>\n",
              "      <th>10</th>\n",
              "      <th>11</th>\n",
              "      <th>12</th>\n",
              "    </tr>\n",
              "    <tr>\n",
              "      <th>cohort</th>\n",
              "      <th></th>\n",
              "      <th></th>\n",
              "      <th></th>\n",
              "      <th></th>\n",
              "      <th></th>\n",
              "      <th></th>\n",
              "      <th></th>\n",
              "      <th></th>\n",
              "      <th></th>\n",
              "      <th></th>\n",
              "      <th></th>\n",
              "      <th></th>\n",
              "    </tr>\n",
              "  </thead>\n",
              "  <tbody>\n",
              "    <tr>\n",
              "      <th>2010-01</th>\n",
              "      <td>1.0</td>\n",
              "      <td>0.392707</td>\n",
              "      <td>0.468443</td>\n",
              "      <td>0.438990</td>\n",
              "      <td>0.427770</td>\n",
              "      <td>0.426367</td>\n",
              "      <td>0.410940</td>\n",
              "      <td>0.375877</td>\n",
              "      <td>0.399719</td>\n",
              "      <td>0.447405</td>\n",
              "      <td>0.469846</td>\n",
              "      <td>0.349229</td>\n",
              "    </tr>\n",
              "    <tr>\n",
              "      <th>2010-02</th>\n",
              "      <td>1.0</td>\n",
              "      <td>0.334056</td>\n",
              "      <td>0.277657</td>\n",
              "      <td>0.349241</td>\n",
              "      <td>0.329718</td>\n",
              "      <td>0.262473</td>\n",
              "      <td>0.258134</td>\n",
              "      <td>0.344902</td>\n",
              "      <td>0.331887</td>\n",
              "      <td>0.360087</td>\n",
              "      <td>0.216920</td>\n",
              "      <td>NaN</td>\n",
              "    </tr>\n",
              "    <tr>\n",
              "      <th>2010-03</th>\n",
              "      <td>1.0</td>\n",
              "      <td>0.276515</td>\n",
              "      <td>0.299242</td>\n",
              "      <td>0.274621</td>\n",
              "      <td>0.265152</td>\n",
              "      <td>0.232955</td>\n",
              "      <td>0.282197</td>\n",
              "      <td>0.352273</td>\n",
              "      <td>0.365530</td>\n",
              "      <td>0.181818</td>\n",
              "      <td>NaN</td>\n",
              "      <td>NaN</td>\n",
              "    </tr>\n",
              "    <tr>\n",
              "      <th>2010-04</th>\n",
              "      <td>1.0</td>\n",
              "      <td>0.251534</td>\n",
              "      <td>0.230061</td>\n",
              "      <td>0.193252</td>\n",
              "      <td>0.211656</td>\n",
              "      <td>0.242331</td>\n",
              "      <td>0.300613</td>\n",
              "      <td>0.309816</td>\n",
              "      <td>0.153374</td>\n",
              "      <td>NaN</td>\n",
              "      <td>NaN</td>\n",
              "      <td>NaN</td>\n",
              "    </tr>\n",
              "    <tr>\n",
              "      <th>2010-05</th>\n",
              "      <td>1.0</td>\n",
              "      <td>0.200730</td>\n",
              "      <td>0.182482</td>\n",
              "      <td>0.189781</td>\n",
              "      <td>0.189781</td>\n",
              "      <td>0.262774</td>\n",
              "      <td>0.244526</td>\n",
              "      <td>0.156934</td>\n",
              "      <td>NaN</td>\n",
              "      <td>NaN</td>\n",
              "      <td>NaN</td>\n",
              "      <td>NaN</td>\n",
              "    </tr>\n",
              "    <tr>\n",
              "      <th>2010-06</th>\n",
              "      <td>1.0</td>\n",
              "      <td>0.199248</td>\n",
              "      <td>0.210526</td>\n",
              "      <td>0.225564</td>\n",
              "      <td>0.244361</td>\n",
              "      <td>0.319549</td>\n",
              "      <td>0.146617</td>\n",
              "      <td>NaN</td>\n",
              "      <td>NaN</td>\n",
              "      <td>NaN</td>\n",
              "      <td>NaN</td>\n",
              "      <td>NaN</td>\n",
              "    </tr>\n",
              "    <tr>\n",
              "      <th>2010-07</th>\n",
              "      <td>1.0</td>\n",
              "      <td>0.212291</td>\n",
              "      <td>0.206704</td>\n",
              "      <td>0.290503</td>\n",
              "      <td>0.296089</td>\n",
              "      <td>0.167598</td>\n",
              "      <td>NaN</td>\n",
              "      <td>NaN</td>\n",
              "      <td>NaN</td>\n",
              "      <td>NaN</td>\n",
              "      <td>NaN</td>\n",
              "      <td>NaN</td>\n",
              "    </tr>\n",
              "    <tr>\n",
              "      <th>2010-08</th>\n",
              "      <td>1.0</td>\n",
              "      <td>0.218750</td>\n",
              "      <td>0.312500</td>\n",
              "      <td>0.300000</td>\n",
              "      <td>0.168750</td>\n",
              "      <td>NaN</td>\n",
              "      <td>NaN</td>\n",
              "      <td>NaN</td>\n",
              "      <td>NaN</td>\n",
              "      <td>NaN</td>\n",
              "      <td>NaN</td>\n",
              "      <td>NaN</td>\n",
              "    </tr>\n",
              "    <tr>\n",
              "      <th>2010-09</th>\n",
              "      <td>1.0</td>\n",
              "      <td>0.281938</td>\n",
              "      <td>0.264317</td>\n",
              "      <td>0.136564</td>\n",
              "      <td>NaN</td>\n",
              "      <td>NaN</td>\n",
              "      <td>NaN</td>\n",
              "      <td>NaN</td>\n",
              "      <td>NaN</td>\n",
              "      <td>NaN</td>\n",
              "      <td>NaN</td>\n",
              "      <td>NaN</td>\n",
              "    </tr>\n",
              "    <tr>\n",
              "      <th>2010-10</th>\n",
              "      <td>1.0</td>\n",
              "      <td>0.284530</td>\n",
              "      <td>0.168508</td>\n",
              "      <td>NaN</td>\n",
              "      <td>NaN</td>\n",
              "      <td>NaN</td>\n",
              "      <td>NaN</td>\n",
              "      <td>NaN</td>\n",
              "      <td>NaN</td>\n",
              "      <td>NaN</td>\n",
              "      <td>NaN</td>\n",
              "      <td>NaN</td>\n",
              "    </tr>\n",
              "    <tr>\n",
              "      <th>2010-11</th>\n",
              "      <td>1.0</td>\n",
              "      <td>0.201835</td>\n",
              "      <td>NaN</td>\n",
              "      <td>NaN</td>\n",
              "      <td>NaN</td>\n",
              "      <td>NaN</td>\n",
              "      <td>NaN</td>\n",
              "      <td>NaN</td>\n",
              "      <td>NaN</td>\n",
              "      <td>NaN</td>\n",
              "      <td>NaN</td>\n",
              "      <td>NaN</td>\n",
              "    </tr>\n",
              "    <tr>\n",
              "      <th>2010-12</th>\n",
              "      <td>1.0</td>\n",
              "      <td>NaN</td>\n",
              "      <td>NaN</td>\n",
              "      <td>NaN</td>\n",
              "      <td>NaN</td>\n",
              "      <td>NaN</td>\n",
              "      <td>NaN</td>\n",
              "      <td>NaN</td>\n",
              "      <td>NaN</td>\n",
              "      <td>NaN</td>\n",
              "      <td>NaN</td>\n",
              "      <td>NaN</td>\n",
              "    </tr>\n",
              "  </tbody>\n",
              "</table>\n",
              "</div>"
            ],
            "text/plain": [
              "period_num   1         2         3         4         5         6         7   \\\n",
              "cohort                                                                        \n",
              "2010-01     1.0  0.392707  0.468443  0.438990  0.427770  0.426367  0.410940   \n",
              "2010-02     1.0  0.334056  0.277657  0.349241  0.329718  0.262473  0.258134   \n",
              "2010-03     1.0  0.276515  0.299242  0.274621  0.265152  0.232955  0.282197   \n",
              "2010-04     1.0  0.251534  0.230061  0.193252  0.211656  0.242331  0.300613   \n",
              "2010-05     1.0  0.200730  0.182482  0.189781  0.189781  0.262774  0.244526   \n",
              "2010-06     1.0  0.199248  0.210526  0.225564  0.244361  0.319549  0.146617   \n",
              "2010-07     1.0  0.212291  0.206704  0.290503  0.296089  0.167598       NaN   \n",
              "2010-08     1.0  0.218750  0.312500  0.300000  0.168750       NaN       NaN   \n",
              "2010-09     1.0  0.281938  0.264317  0.136564       NaN       NaN       NaN   \n",
              "2010-10     1.0  0.284530  0.168508       NaN       NaN       NaN       NaN   \n",
              "2010-11     1.0  0.201835       NaN       NaN       NaN       NaN       NaN   \n",
              "2010-12     1.0       NaN       NaN       NaN       NaN       NaN       NaN   \n",
              "\n",
              "period_num        8         9         10        11        12  \n",
              "cohort                                                        \n",
              "2010-01     0.375877  0.399719  0.447405  0.469846  0.349229  \n",
              "2010-02     0.344902  0.331887  0.360087  0.216920       NaN  \n",
              "2010-03     0.352273  0.365530  0.181818       NaN       NaN  \n",
              "2010-04     0.309816  0.153374       NaN       NaN       NaN  \n",
              "2010-05     0.156934       NaN       NaN       NaN       NaN  \n",
              "2010-06          NaN       NaN       NaN       NaN       NaN  \n",
              "2010-07          NaN       NaN       NaN       NaN       NaN  \n",
              "2010-08          NaN       NaN       NaN       NaN       NaN  \n",
              "2010-09          NaN       NaN       NaN       NaN       NaN  \n",
              "2010-10          NaN       NaN       NaN       NaN       NaN  \n",
              "2010-11          NaN       NaN       NaN       NaN       NaN  \n",
              "2010-12          NaN       NaN       NaN       NaN       NaN  "
            ]
          },
          "execution_count": 17,
          "metadata": {},
          "output_type": "execute_result"
        }
      ],
      "source": [
        "df_retention_cohort = df_cohort_pivot.divide(cohort_size, axis=0)\n",
        "df_retention_cohort"
      ]
    },
    {
      "cell_type": "markdown",
      "id": "1f84d8a1-6626-488a-8185-8d1009f0dd5a",
      "metadata": {
        "id": "1f84d8a1-6626-488a-8185-8d1009f0dd5a"
      },
      "source": [
        "## Heatmap"
      ]
    },
    {
      "cell_type": "code",
      "execution_count": 25,
      "id": "43d8373b-ce16-4d28-bbf6-c1fb0e0b4880",
      "metadata": {
        "colab": {
          "base_uri": "https://localhost:8080/",
          "height": 687
        },
        "execution": {
          "iopub.execute_input": "2022-10-28T08:43:07.282416Z",
          "iopub.status.busy": "2022-10-28T08:43:07.280068Z",
          "iopub.status.idle": "2022-10-28T08:43:08.180399Z",
          "shell.execute_reply": "2022-10-28T08:43:08.178642Z",
          "shell.execute_reply.started": "2022-10-28T08:43:07.282297Z"
        },
        "id": "43d8373b-ce16-4d28-bbf6-c1fb0e0b4880",
        "outputId": "29dfd268-f602-44f7-a28b-710a739d48a9",
        "tags": []
      },
      "outputs": [
        {
          "data": {
            "image/png": "[encoded data removed]",
            "text/plain": [
              "<Figure size 1600x1200 with 3 Axes>"
            ]
          },
          "metadata": {},
          "output_type": "display_data"
        }
      ],
      "source": [
        "# pip install matplotlib\n",
        "# pip install seaborn\n",
        "import matplotlib.pyplot as plt\n",
        "import matplotlib.colors as mcolors\n",
        "import seaborn as sns\n",
        "\n",
        "with sns.axes_style('white'):\n",
        "\n",
        "    fig, ax = plt.subplots(1, 2, figsize=(16, 12), sharey=True, gridspec_kw={'width_ratios':[1, 11]})\n",
        "\n",
        "    # user retention cohort\n",
        "    sns.heatmap(df_retention_cohort, annot=True, fmt='.0%', cmap='RdYlGn', ax=ax[1])\n",
        "    ax[1].set_title('User Retention Cohort')\n",
        "    ax[1].set(xlabel='Month Number', ylabel='')\n",
        "\n",
        "    # cohort size\n",
        "    df_cohort_size = pd.DataFrame(cohort_size)\n",
        "    custom_cmap = mcolors.ListedColormap(['white'])\n",
        "    sns.heatmap(df_cohort_size, annot=True, cbar=False, fmt='g', cmap=custom_cmap, ax=ax[0])\n",
        "    ax[0].tick_params(bottom=False)\n",
        "    ax[0].set(xlabel='Cohort Size', ylabel='First Order Month', xticklabels=[])\n",
        "\n",
        "    fig.tight_layout()"
      ]
    },
    {
      "cell_type": "markdown",
      "id": "ywZ2Pxyyqrtn",
      "metadata": {
        "id": "ywZ2Pxyyqrtn"
      },
      "source": [
        "# *User Retention Cohort* Analysis"
      ]
    },
    {
      "cell_type": "markdown",
      "id": "KCy3ZVV7q8jw",
      "metadata": {
        "id": "KCy3ZVV7q8jw"
      },
      "source": [
        "*   Pengguna **paling banyak pertama kali bertransaksi** pada Januari 2010 (713 pengguna).\n",
        "*   *Cohort* pengguna tersebut juga yang **paling banyak bertransaksi kembali di bulan ke-2** dengan 39% *retention rate* dibanding *cohort* yang lain.\n",
        "*   Selain itu, *cohort* tersebut jugalah yang **paling loyal bertransaksi pada bulan-bulan berikutnya** dengan *retention rate* berkisar 40%+.\n",
        "*   Namun, **sebagian besar pengguna tidak kembali bertransaksi**, terlihat dari *retention rate* di banyak *cohort* dan bulan yang nilainya tidak sampai 50%.\n",
        "*   *Retention rate* di Desember 2010 terlihat cukup menghawatirkan karena **menjadi yang terendah** untuk semua *cohort* pengguna dibanding bulan-bulan sebelumnya."
      ]
    },
    {
      "cell_type": "markdown",
      "id": "ebefd12e",
      "metadata": {},
      "source": [
        "# *Recommendation*"
      ]
    },
    {
      "cell_type": "markdown",
      "id": "63b4d461",
      "metadata": {},
      "source": [
        "1. Tingkatkan Retensi pada Bulan-Bulan Awal (Bulan 1-3)\n",
        "* Analisis: Retention rate di bulan ke-2 untuk cohort Januari 2010 adalah yang tertinggi (39%), tetapi secara keseluruhan, retention rate di bulan-bulan awal untuk cohort lainnya cenderung rendah (sekitar 20-31%). Sebagian besar pengguna tidak kembali setelah transaksi pertama, yang menunjukkan potensi masalah dalam pengalaman awal pengguna.\n",
        "* Rekomendasi:\n",
        "    - Program Onboarding yang Lebih Kuat: Berikan pengalaman onboarding yang lebih interaktif, seperti tutorial penggunaan produk/layanan, diskon khusus untuk transaksi kedua, atau welcome email yang menarik.\n",
        "    - Insentif untuk Transaksi Kedua: Tawarkan promo atau hadiah (misalnya, diskon 20% untuk transaksi berikutnya dalam 30 hari) untuk mendorong pengguna kembali lebih cepat.\n",
        "    - Feedback Awal: Kirim survei singkat setelah transaksi pertama untuk memahami pengalaman pengguna dan identifikasi pain point yang membuat mereka tidak kembali.\n",
        "\n",
        "2. Fokus pada Cohort dengan Retensi Tinggi (Januari 2010)\n",
        "* Analisis: Cohort Januari 2010 memiliki retention rate yang tinggi dan stabil di bulan-bulan berikutnya (berkisar 40%+), menunjukkan bahwa ada elemen tertentu pada periode tersebut yang berhasil mempertahankan pengguna.\n",
        "* Rekomendasi:\n",
        "    - Analisis Mendalam Cohort Januari 2010: Identifikasi faktor yang membuat cohort ini loyal. Apakah ada promo khusus, fitur baru, atau pelayanan yang lebih baik pada periode tersebut? Replikasi strategi tersebut untuk cohort lain.\n",
        "    - Program Loyalitas: Untuk cohort ini, perkuat hubungan dengan program loyalitas, seperti poin reward yang dapat ditukar dengan produk/layanan, atau akses eksklusif ke fitur tertentu.\n",
        "    - Personalisasi: Gunakan data dari cohort ini untuk menawarkan rekomendasi produk/layanan yang lebih personal, sehingga mereka merasa lebih dihargai.\n",
        "\n",
        "3. Atasi Penurunan Retensi di Bulan Desember 2010\n",
        "* Analisis: Retention rate di Desember 2010 (bulan ke-12 untuk cohort Januari, bulan ke-11 untuk cohort Februari, dst.) adalah yang terendah untuk semua cohort. Ini mungkin disebabkan oleh faktor musiman, seperti libur akhir tahun, atau kehilangan minat pengguna setelah beberapa bulan.\n",
        "* Rekomendasi:\n",
        "    - Kampanye Musiman: Manfaatkan momentum akhir tahun dengan kampanye bertema liburan, seperti diskon Natal/Tahun Baru, atau penawaran khusus untuk transaksi di bulan Desember.\n",
        "    - Re-Engagement Campaign: Untuk pengguna yang mulai jarang bertransaksi (misalnya, setelah 6 bulan), kirim email atau notifikasi dengan penawaran menarik untuk mengembalikan mereka. Contoh: \"Kami Merindukan Anda! Dapatkan 15% Off untuk Transaksi Berikutnya.\"\n",
        "    - Analisis Penyebab Penurunan: Lakukan analisis lebih lanjut untuk memahami apakah ada faktor eksternal (misalnya, kompetitor yang lebih agresif di bulan Desember) atau internal (misalnya, penurunan kualitas layanan) yang memengaruhi retensi.\n",
        "\n",
        "4. Tangani Rendahnya Retensi Secara Keseluruhan\n",
        "* Analisis: Sebagian besar cohort memiliki retention rate di bawah 50%, menunjukkan bahwa mayoritas pengguna tidak kembali setelah beberapa bulan. Ini adalah masalah utama yang perlu segera ditangani.\n",
        "* Rekomendasi:\n",
        "    - Tingkatkan Kualitas Produk/Layanan: Pastikan produk atau layanan yang ditawarkan memberikan nilai yang konsisten. Identifikasi keluhan umum (misalnya, melalui ulasan atau survei) dan segera perbaiki.\n",
        "    - Bangun Kebiasaan Pengguna: Dorong pengguna untuk bertransaksi secara rutin dengan fitur seperti langganan (subscription) atau pengingat otomatis untuk melakukan transaksi.\n",
        "    - Segmentasi Pengguna: Pisahkan pengguna berdasarkan pola perilaku mereka (misalnya, pengguna aktif vs. pengguna yang jarang bertransaksi) dan berikan strategi yang berbeda untuk masing-masing segmen. Untuk pengguna yang jarang bertransaksi, fokus pada re-engagement; untuk pengguna aktif, fokus pada loyalitas.\n",
        "\n",
        "5. Manfaatkan Data untuk Prediksi dan Perbaikan\n",
        "* Analisis: Retention rate yang bervariasi antar cohort dan bulan menunjukkan adanya pola yang dapat dimanfaatkan untuk strategi ke depan.\n",
        "* Rekomendasi:\n",
        "    - Gunakan Analitik Prediktif: Manfaatkan data cohort untuk memprediksi kapan pengguna cenderung berhenti bertransaksi, lalu intervensi sebelum mereka churn (misalnya, dengan penawaran khusus).\n",
        "    - A/B Testing: Uji berbagai strategi retensi (misalnya, diskon vs. poin reward) untuk melihat mana yang paling efektif dalam meningkatkan retention rate.\n",
        "    - Pantau Retention Rate Secara Real-Time: Buat dashboard untuk melacak retention rate secara berkala, sehingga Anda dapat segera bertindak jika ada penurunan signifikan"
      ]
    },
    {
      "cell_type": "markdown",
      "id": "ee5f6884",
      "metadata": {},
      "source": [
        "# *Conclusion*"
      ]
    },
    {
      "cell_type": "markdown",
      "id": "2f13bf50",
      "metadata": {},
      "source": [
        "Berdasarkan analisis *User Retention Cohort*, kita melihat bahwa pengguna yang pertama kali bertransaksi pada **Januari 2010 (dengan 713 pengguna)** menjadi *champion* dalam loyalitas, dengan **retention rate tertinggi di bulan ke-2 (39%)** dan konsisten **di atas 40% pada bulan-bulan berikutnya**—angka yang jauh melampaui *cohort* lainnya. Namun, ada **red flag** yang perlu kita waspadai: secara keseluruhan, **retention rate di banyak cohort tidak pernah mencapai 50%**, menunjukkan bahwa **mayoritas pengguna tidak kembali setelah transaksi awal**. Puncaknya, **Desember 2010 menjadi bulan terlemah dengan retention rate terendah untuk semua cohort**, kemungkinan dipengaruhi oleh faktor musiman atau kehilangan minat pengguna.\n",
        "\n",
        "**Apa artinya bagi kita?**\n",
        "\n",
        "Kita memiliki **peluang emas** untuk meniru kesuksesan cohort Januari 2010 dengan mengidentifikasi strategi yang membuat mereka loyal, seperti **pengalaman awal yang memikat atau insentif yang tepat**. Di sisi lain, kita harus segera mengatasi **rendahnya retensi secara keseluruhan** dengan fokus pada pengalaman pengguna di bulan-bulan awal, **kampanye re-engagement yang kuat**, dan **strategi musiman untuk bulan-bulan kritis seperti Desember**. Dengan langkah yang tepat—mulai dari **program onboarding yang lebih baik**, **insentif transaksi berulang**, hingga **analitik prediktif untuk mencegah churn**—kita bisa mengubah pengguna baru menjadi **pelanggan setia** dan memastikan **bisnis kita terus berkembang**. Mari kita ambil pelajaran dari data ini dan wujudkan **strategi yang lebih cerdas untuk masa depan!**"
      ]
    }
  ],
  "metadata": {
    "colab": {
      "provenance": [],
      "toc_visible": true
    },
    "kernelspec": {
      "display_name": "Python 3",
      "language": "python",
      "name": "python3"
    },
    "language_info": {
      "codemirror_mode": {
        "name": "ipython",
        "version": 3
      },
      "file_extension": ".py",
      "mimetype": "text/x-python",
      "name": "python",
      "nbconvert_exporter": "python",
      "pygments_lexer": "ipython3",
      "version": "3.13.2"
    },
    "toc": {
      "base_numbering": 1,
      "nav_menu": {},
      "number_sections": true,
      "sideBar": true,
      "skip_h1_title": false,
      "title_cell": "Table of Contents",
      "title_sidebar": "Contents",
      "toc_cell": false,
      "toc_position": {},
      "toc_section_display": true,
      "toc_window_display": true
    }
  },
  "nbformat": 4,
  "nbformat_minor": 5
}
