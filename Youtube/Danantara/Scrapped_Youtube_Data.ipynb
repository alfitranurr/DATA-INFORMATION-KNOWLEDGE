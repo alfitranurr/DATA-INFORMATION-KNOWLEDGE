{
 "cells": [
  {
   "cell_type": "markdown",
   "metadata": {},
   "source": [
    "# Pull All Comments"
   ]
  },
  {
   "cell_type": "code",
   "execution_count": null,
   "metadata": {},
   "outputs": [],
   "source": [
    "dev = \"Your API Key\""
   ]
  },
  {
   "cell_type": "code",
   "execution_count": 2,
   "metadata": {},
   "outputs": [
    {
     "name": "stdout",
     "output_type": "stream",
     "text": [
      "<class 'pandas.core.frame.DataFrame'>\n",
      "RangeIndex: 1758 entries, 0 to 1757\n",
      "Data columns (total 5 columns):\n",
      " #   Column      Non-Null Count  Dtype \n",
      "---  ------      --------------  ----- \n",
      " 0   author      1758 non-null   object\n",
      " 1   updated_at  1758 non-null   object\n",
      " 2   like_count  1758 non-null   int64 \n",
      " 3   text        1758 non-null   object\n",
      " 4   public      1758 non-null   bool  \n",
      "dtypes: bool(1), int64(1), object(3)\n",
      "memory usage: 56.8+ KB\n"
     ]
    }
   ],
   "source": [
    "import googleapiclient.discovery\n",
    "import pandas as pd\n",
    "\n",
    "api_service_name = \"youtube\"\n",
    "api_version = \"v3\"\n",
    "DEVELOPER_KEY = dev\n",
    "\n",
    "youtube = googleapiclient.discovery.build(\n",
    "    api_service_name, api_version, developerKey=DEVELOPER_KEY)\n",
    "\n",
    "request = youtube.commentThreads().list(\n",
    "    part=\"snippet\",\n",
    "    videoId=\"Tl6fDFA4xNI\",\n",
    "    maxResults=100\n",
    ")\n",
    "\n",
    "comments = []\n",
    "\n",
    "# Execute the request.\n",
    "response = request.execute()\n",
    "\n",
    "# Get the comments from the response.\n",
    "for item in response['items']:\n",
    "    comment = item['snippet']['topLevelComment']['snippet']\n",
    "    public = item['snippet']['isPublic']\n",
    "    comments.append([\n",
    "        comment['authorDisplayName'],\n",
    "        comment['publishedAt'],\n",
    "        comment['likeCount'],\n",
    "        comment['textOriginal'],\n",
    "        public\n",
    "    ])\n",
    "\n",
    "while (1 == 1):\n",
    "  try:\n",
    "   nextPageToken = response['nextPageToken']\n",
    "  except KeyError:\n",
    "   break\n",
    "  nextPageToken = response['nextPageToken']\n",
    "  # Create a new request object with the next page token.\n",
    "  nextRequest = youtube.commentThreads().list(part=\"snippet\", videoId=\"Tl6fDFA4xNI\", maxResults=100, pageToken=nextPageToken)\n",
    "  # Execute the next request.\n",
    "  response = nextRequest.execute()\n",
    "  # Get the comments from the next response.\n",
    "  for item in response['items']:\n",
    "    comment = item['snippet']['topLevelComment']['snippet']\n",
    "    public = item['snippet']['isPublic']\n",
    "    comments.append([\n",
    "        comment['authorDisplayName'],\n",
    "        comment['publishedAt'],\n",
    "        comment['likeCount'],\n",
    "        comment['textOriginal'],\n",
    "        public\n",
    "    ])\n",
    "\n",
    "df = pd.DataFrame(comments, columns=['author', 'updated_at', 'like_count', 'text','public'])\n",
    "df.info()"
   ]
  },
  {
   "cell_type": "code",
   "execution_count": 3,
   "metadata": {},
   "outputs": [
    {
     "data": {
      "text/plain": [
       "{'kind': 'youtube#commentThread',\n",
       " 'etag': 'yMFVLWCrgAV-7ggVztfA2uDaCiU',\n",
       " 'id': 'Ugxtw1zNHixta9Do5Qp4AaABAg',\n",
       " 'snippet': {'channelId': 'UCm4eA46c6boHmPrD0Lp2iEg',\n",
       "  'videoId': 'Tl6fDFA4xNI',\n",
       "  'topLevelComment': {'kind': 'youtube#comment',\n",
       "   'etag': 'VNQ0wfbrLAPL-LWzp6E2e-Ejf_s',\n",
       "   'id': 'Ugxtw1zNHixta9Do5Qp4AaABAg',\n",
       "   'snippet': {'channelId': 'UCm4eA46c6boHmPrD0Lp2iEg',\n",
       "    'videoId': 'Tl6fDFA4xNI',\n",
       "    'textDisplay': 'pada puasa ga nieh❤',\n",
       "    'textOriginal': 'pada puasa ga nieh❤',\n",
       "    'authorDisplayName': '@RelaxeYoez',\n",
       "    'authorProfileImageUrl': 'https://yt3.ggpht.com/TLCJEUKof8Wb4aIcMJ0X0B7BSg6B41CJgXBX5JWInr_oIiiN5cHmllLl3KCh8ZXKnQRpwbie0Q=s48-c-k-c0x00ffffff-no-rj',\n",
       "    'authorChannelUrl': 'http://www.youtube.com/@RelaxeYoez',\n",
       "    'authorChannelId': {'value': 'UCZPkrmS1NgAtD7CuiRUpn0w'},\n",
       "    'canRate': True,\n",
       "    'viewerRating': 'none',\n",
       "    'likeCount': 2,\n",
       "    'publishedAt': '2025-03-01T00:58:27Z',\n",
       "    'updatedAt': '2025-03-01T00:58:27Z'}},\n",
       "  'canReply': True,\n",
       "  'totalReplyCount': 0,\n",
       "  'isPublic': True}}"
      ]
     },
     "execution_count": 3,
     "metadata": {},
     "output_type": "execute_result"
    }
   ],
   "source": [
    "response['items'][0]"
   ]
  },
  {
   "cell_type": "code",
   "execution_count": 4,
   "metadata": {},
   "outputs": [
    {
     "data": {
      "application/vnd.microsoft.datawrangler.viewer.v0+json": {
       "columns": [
        {
         "name": "index",
         "rawType": "int64",
         "type": "integer"
        },
        {
         "name": "author",
         "rawType": "object",
         "type": "string"
        },
        {
         "name": "updated_at",
         "rawType": "object",
         "type": "string"
        },
        {
         "name": "like_count",
         "rawType": "int64",
         "type": "integer"
        },
        {
         "name": "text",
         "rawType": "object",
         "type": "string"
        },
        {
         "name": "public",
         "rawType": "bool",
         "type": "boolean"
        }
       ],
       "conversionMethod": "pd.DataFrame",
       "ref": "17578116-8e9b-4464-9957-2943737ebfeb",
       "rows": [
        [
         "0",
         "@ahmadsyaifuddin3553",
         "2025-03-02T02:50:13Z",
         "0",
         "Ayo taruh an ga bakal an di korupsi kaya jiwassraya gw yakin ntar pasti ada berita nya seperti jiwasraya..😂😂",
         "True"
        ],
        [
         "1",
         "@lenyselvianti4031",
         "2025-03-02T02:49:21Z",
         "0",
         "Semoga ada transparansi😢",
         "True"
        ],
        [
         "2",
         "@andrihermansyah7",
         "2025-03-02T02:47:54Z",
         "0",
         "Itulah yang ditakutkan. Eksekusi amburadul, apalagi pemerintah saat ini cenderung punya ide ide dan program yang sangat bagus. Namun sayang eksekusinya itu cenderung amburadul sehingga hasilnya menyimpang jauh dari apa yang direncanakan di awal.\n\nItu pula lah penyebab kenapa banyak yang skeptis dengan lembaga ini. Padahal kalau dilihat berapa menakjubkannya program ini untuk membangun negeri",
         "True"
        ],
        [
         "3",
         "@agussupriadi6083",
         "2025-03-02T02:43:54Z",
         "0",
         "DANANTARA ITU LEMBAGA NEGARA BUKAN KOH....TERUS PARA PENGELOLANYA KREDIBLE TIDAK..?",
         "True"
        ],
        [
         "4",
         "@Bonsai-q4f",
         "2025-03-02T02:41:49Z",
         "0",
         "Jk berkaca dari SDM penguasa negeri ini sih sgt pesimis.",
         "True"
        ],
        [
         "5",
         "@crispypaper986",
         "2025-03-02T02:40:41Z",
         "0",
         "Calon project mega korupsi",
         "True"
        ],
        [
         "6",
         "@aththariqkuddayan1200",
         "2025-03-02T02:39:58Z",
         "0",
         "Pejabatnya mikir nanti milih mau makan apa? Sedangkan rakyatnya mikir nanti  yang akan dimakan apa?.....😢",
         "True"
        ],
        [
         "7",
         "@bimasanto1095",
         "2025-03-02T02:36:27Z",
         "0",
         "ASET=14.000T HUTANG=7.000T",
         "True"
        ],
        [
         "8",
         "@aryalawamanuaba",
         "2025-03-02T02:36:08Z",
         "0",
         "Saya hanya yakin Danantara ini akan dikorupsi. Titik.",
         "True"
        ],
        [
         "9",
         "@rfajri92",
         "2025-03-02T02:35:46Z",
         "0",
         "Mimpi : Danantara\nKenyataan: Jiwasraya, Asabri, Food estate, IKN, Hambalang wkwk\n\nGak usah buta buta banget hai warga",
         "True"
        ]
       ],
       "shape": {
        "columns": 5,
        "rows": 10
       }
      },
      "text/html": [
       "<div>\n",
       "<style scoped>\n",
       "    .dataframe tbody tr th:only-of-type {\n",
       "        vertical-align: middle;\n",
       "    }\n",
       "\n",
       "    .dataframe tbody tr th {\n",
       "        vertical-align: top;\n",
       "    }\n",
       "\n",
       "    .dataframe thead th {\n",
       "        text-align: right;\n",
       "    }\n",
       "</style>\n",
       "<table border=\"1\" class=\"dataframe\">\n",
       "  <thead>\n",
       "    <tr style=\"text-align: right;\">\n",
       "      <th></th>\n",
       "      <th>author</th>\n",
       "      <th>updated_at</th>\n",
       "      <th>like_count</th>\n",
       "      <th>text</th>\n",
       "      <th>public</th>\n",
       "    </tr>\n",
       "  </thead>\n",
       "  <tbody>\n",
       "    <tr>\n",
       "      <th>0</th>\n",
       "      <td>@ahmadsyaifuddin3553</td>\n",
       "      <td>2025-03-02T02:50:13Z</td>\n",
       "      <td>0</td>\n",
       "      <td>Ayo taruh an ga bakal an di korupsi kaya jiwas...</td>\n",
       "      <td>True</td>\n",
       "    </tr>\n",
       "    <tr>\n",
       "      <th>1</th>\n",
       "      <td>@lenyselvianti4031</td>\n",
       "      <td>2025-03-02T02:49:21Z</td>\n",
       "      <td>0</td>\n",
       "      <td>Semoga ada transparansi😢</td>\n",
       "      <td>True</td>\n",
       "    </tr>\n",
       "    <tr>\n",
       "      <th>2</th>\n",
       "      <td>@andrihermansyah7</td>\n",
       "      <td>2025-03-02T02:47:54Z</td>\n",
       "      <td>0</td>\n",
       "      <td>Itulah yang ditakutkan. Eksekusi amburadul, ap...</td>\n",
       "      <td>True</td>\n",
       "    </tr>\n",
       "    <tr>\n",
       "      <th>3</th>\n",
       "      <td>@agussupriadi6083</td>\n",
       "      <td>2025-03-02T02:43:54Z</td>\n",
       "      <td>0</td>\n",
       "      <td>DANANTARA ITU LEMBAGA NEGARA BUKAN KOH....TERU...</td>\n",
       "      <td>True</td>\n",
       "    </tr>\n",
       "    <tr>\n",
       "      <th>4</th>\n",
       "      <td>@Bonsai-q4f</td>\n",
       "      <td>2025-03-02T02:41:49Z</td>\n",
       "      <td>0</td>\n",
       "      <td>Jk berkaca dari SDM penguasa negeri ini sih sg...</td>\n",
       "      <td>True</td>\n",
       "    </tr>\n",
       "    <tr>\n",
       "      <th>5</th>\n",
       "      <td>@crispypaper986</td>\n",
       "      <td>2025-03-02T02:40:41Z</td>\n",
       "      <td>0</td>\n",
       "      <td>Calon project mega korupsi</td>\n",
       "      <td>True</td>\n",
       "    </tr>\n",
       "    <tr>\n",
       "      <th>6</th>\n",
       "      <td>@aththariqkuddayan1200</td>\n",
       "      <td>2025-03-02T02:39:58Z</td>\n",
       "      <td>0</td>\n",
       "      <td>Pejabatnya mikir nanti milih mau makan apa? Se...</td>\n",
       "      <td>True</td>\n",
       "    </tr>\n",
       "    <tr>\n",
       "      <th>7</th>\n",
       "      <td>@bimasanto1095</td>\n",
       "      <td>2025-03-02T02:36:27Z</td>\n",
       "      <td>0</td>\n",
       "      <td>ASET=14.000T HUTANG=7.000T</td>\n",
       "      <td>True</td>\n",
       "    </tr>\n",
       "    <tr>\n",
       "      <th>8</th>\n",
       "      <td>@aryalawamanuaba</td>\n",
       "      <td>2025-03-02T02:36:08Z</td>\n",
       "      <td>0</td>\n",
       "      <td>Saya hanya yakin Danantara ini akan dikorupsi....</td>\n",
       "      <td>True</td>\n",
       "    </tr>\n",
       "    <tr>\n",
       "      <th>9</th>\n",
       "      <td>@rfajri92</td>\n",
       "      <td>2025-03-02T02:35:46Z</td>\n",
       "      <td>0</td>\n",
       "      <td>Mimpi : Danantara\\nKenyataan: Jiwasraya, Asabr...</td>\n",
       "      <td>True</td>\n",
       "    </tr>\n",
       "  </tbody>\n",
       "</table>\n",
       "</div>"
      ],
      "text/plain": [
       "                   author            updated_at  like_count  \\\n",
       "0    @ahmadsyaifuddin3553  2025-03-02T02:50:13Z           0   \n",
       "1      @lenyselvianti4031  2025-03-02T02:49:21Z           0   \n",
       "2       @andrihermansyah7  2025-03-02T02:47:54Z           0   \n",
       "3       @agussupriadi6083  2025-03-02T02:43:54Z           0   \n",
       "4             @Bonsai-q4f  2025-03-02T02:41:49Z           0   \n",
       "5         @crispypaper986  2025-03-02T02:40:41Z           0   \n",
       "6  @aththariqkuddayan1200  2025-03-02T02:39:58Z           0   \n",
       "7          @bimasanto1095  2025-03-02T02:36:27Z           0   \n",
       "8        @aryalawamanuaba  2025-03-02T02:36:08Z           0   \n",
       "9               @rfajri92  2025-03-02T02:35:46Z           0   \n",
       "\n",
       "                                                text  public  \n",
       "0  Ayo taruh an ga bakal an di korupsi kaya jiwas...    True  \n",
       "1                           Semoga ada transparansi😢    True  \n",
       "2  Itulah yang ditakutkan. Eksekusi amburadul, ap...    True  \n",
       "3  DANANTARA ITU LEMBAGA NEGARA BUKAN KOH....TERU...    True  \n",
       "4  Jk berkaca dari SDM penguasa negeri ini sih sg...    True  \n",
       "5                         Calon project mega korupsi    True  \n",
       "6  Pejabatnya mikir nanti milih mau makan apa? Se...    True  \n",
       "7                         ASET=14.000T HUTANG=7.000T    True  \n",
       "8  Saya hanya yakin Danantara ini akan dikorupsi....    True  \n",
       "9  Mimpi : Danantara\\nKenyataan: Jiwasraya, Asabr...    True  "
      ]
     },
     "execution_count": 4,
     "metadata": {},
     "output_type": "execute_result"
    }
   ],
   "source": [
    "df.head(10)"
   ]
  },
  {
   "cell_type": "code",
   "execution_count": null,
   "metadata": {},
   "outputs": [],
   "source": [
    "df.to_csv('Data_Scrapped_Youtube_RaymondChin.csv', index=False)\n"
   ]
  },
  {
   "cell_type": "markdown",
   "metadata": {},
   "source": [
    "# Pull all Comments for Multiple Videos"
   ]
  },
  {
   "cell_type": "markdown",
   "metadata": {},
   "source": [
    "## 1. Get Comments Function"
   ]
  },
  {
   "cell_type": "code",
   "execution_count": null,
   "metadata": {},
   "outputs": [],
   "source": [
    "import googleapiclient.discovery\n",
    "import pandas as pd\n",
    "\n",
    "api_service_name = \"youtube\"\n",
    "api_version = \"v3\"\n",
    "DEVELOPER_KEY = dev\n",
    "\n",
    "youtube = googleapiclient.discovery.build(\n",
    "    api_service_name, api_version, developerKey=DEVELOPER_KEY)\n",
    "\n",
    "\n",
    "def getcomments(video):\n",
    "  request = youtube.commentThreads().list(\n",
    "      part=\"snippet\",\n",
    "      videoId=video,\n",
    "      maxResults=100\n",
    "  )\n",
    "\n",
    "  comments = []\n",
    "\n",
    "  # Execute the request.\n",
    "  response = request.execute()\n",
    "\n",
    "  # Get the comments from the response.\n",
    "  for item in response['items']:\n",
    "      comment = item['snippet']['topLevelComment']['snippet']\n",
    "      public = item['snippet']['isPublic']\n",
    "      comments.append([\n",
    "          comment['authorDisplayName'],\n",
    "          comment['publishedAt'],\n",
    "          comment['likeCount'],\n",
    "          comment['textOriginal'],\n",
    "          comment['videoId'],\n",
    "          public\n",
    "      ])\n",
    "\n",
    "  while (1 == 1):\n",
    "    try:\n",
    "     nextPageToken = response['nextPageToken']\n",
    "    except KeyError:\n",
    "     break\n",
    "    nextPageToken = response['nextPageToken']\n",
    "    # Create a new request object with the next page token.\n",
    "    nextRequest = youtube.commentThreads().list(part=\"snippet\", videoId=video, maxResults=100, pageToken=nextPageToken)\n",
    "    # Execute the next request.\n",
    "    response = nextRequest.execute()\n",
    "    # Get the comments from the next response.\n",
    "    for item in response['items']:\n",
    "      comment = item['snippet']['topLevelComment']['snippet']\n",
    "      public = item['snippet']['isPublic']\n",
    "      comments.append([\n",
    "          comment['authorDisplayName'],\n",
    "          comment['publishedAt'],\n",
    "          comment['likeCount'],\n",
    "          comment['textOriginal'],\n",
    "          comment['videoId'],\n",
    "          public\n",
    "      ])\n",
    "\n",
    "  df2 = pd.DataFrame(comments, columns=['author', 'updated_at', 'like_count', 'text','video_id','public'])\n",
    "  return df2"
   ]
  },
  {
   "cell_type": "code",
   "execution_count": null,
   "metadata": {},
   "outputs": [],
   "source": [
    "df = getcomments('TYxqBTdOq24')\n",
    "df"
   ]
  },
  {
   "cell_type": "markdown",
   "metadata": {},
   "source": [
    "## 2. For Loop for List of IDs"
   ]
  },
  {
   "cell_type": "code",
   "execution_count": null,
   "metadata": {},
   "outputs": [],
   "source": [
    "df = pd.DataFrame()\n",
    "for i in ['QOcP5OvSwlI','Lfzu74XDyco','TiS6vnju_mI','cYwioeHu_OU']:\n",
    "  df2 = getcomments(i)\n",
    "  df = pd.concat([df, df2])"
   ]
  },
  {
   "cell_type": "code",
   "execution_count": null,
   "metadata": {},
   "outputs": [],
   "source": [
    "df"
   ]
  },
  {
   "cell_type": "code",
   "execution_count": null,
   "metadata": {},
   "outputs": [],
   "source": [
    "\n",
    "df['video_id'].value_counts()"
   ]
  }
 ],
 "metadata": {
  "kernelspec": {
   "display_name": "Python 3",
   "language": "python",
   "name": "python3"
  },
  "language_info": {
   "codemirror_mode": {
    "name": "ipython",
    "version": 3
   },
   "file_extension": ".py",
   "mimetype": "text/x-python",
   "name": "python",
   "nbconvert_exporter": "python",
   "pygments_lexer": "ipython3",
   "version": "3.13.2"
  }
 },
 "nbformat": 4,
 "nbformat_minor": 2
}
